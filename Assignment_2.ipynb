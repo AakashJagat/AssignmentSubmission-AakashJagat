{
 "cells": [
  {
   "cell_type": "markdown",
   "id": "f1b281c7-abe6-4974-9aa3-2e331184ee2e",
   "metadata": {},
   "source": [
    "Question1: What are the two values of the Boolean data type? How do you write them?\n",
    "\n",
    "Answer: The two values of the Boolean data type are:\r\n",
    "1. `True`\r\n",
    "2. `False`\r\n",
    "\r\n",
    "They are written exactly as shown here, with the initial capital letter.ter."
   ]
  },
  {
   "cell_type": "markdown",
   "id": "fb89a1b3-8ff8-4fe4-9b3b-2def6935ab5d",
   "metadata": {},
   "source": [
    "Question2: What are the three different types of Boolean operators?\n",
    "\n",
    "Answer:The three different types of Boolean operators are:\n",
    "1. AND\n",
    "2. OR\n",
    "3. NOT"
   ]
  },
  {
   "cell_type": "markdown",
   "id": "f2c7b35a-4617-4877-afb0-9c6e9efdf7ca",
   "metadata": {},
   "source": [
    "Question3: Make a list of each Boolean operator&#39;s truth tables (i.e. every possible combination of Boolean\n",
    "values for the operator and what it evaluate ).\n",
    "\n",
    "Answer: The truth tables for the three basic Boolean operators are as follows:\r\n",
    "\r\n",
    "1. **AND Operator (&& or AND):**\r\n",
    "\r\n",
    "| A     | B     | A AND B |\r\n",
    "|-------|-------|---------|\r\n",
    "| False | False | False   |\r\n",
    "| False | True  | False   |\r\n",
    "| True  | False | False   |\r\n",
    "| True  | True  | True    |\r\n",
    "\r\n",
    "2. **OR Operator (|| or OR):**\r\n",
    "\r\n",
    "| A     | B     | A OR B  |\r\n",
    "|-------|-------|---------|\r\n",
    "| False | False | False   |\r\n",
    "| False | True  | True    |\r\n",
    "| True  | False | True    |\r\n",
    "| True  | True  | True    |\r\n",
    "\r\n",
    "3. **NOT Operator (! or NOT):**\r\n",
    "\r\n",
    "| A     | NOT A |\r\n",
    "|-------|-------|\r\n",
    "| False | True  |\r\n",
    "| True  | False |"
   ]
  },
  {
   "cell_type": "markdown",
   "id": "35718d6f-ff1d-4544-8076-b0211ba9e4a8",
   "metadata": {},
   "source": [
    "Question4: What are the values of the following expressions?\n",
    "\n",
    "Answer:\n",
    "\n",
    "1. (5 &gt; 4) and (3 == 5) In this case, one of the conditions (5 &gt; 4) is True but ((3 == 5)) is False, so the overall result is False.\n",
    "2. not (5 &gt; 4) In this case, not True is False because the not operator negates the value, changing True to False. Hence, The expression not (5 > 4) evaluates to False.\n",
    "3. (5 &gt; 4) or (3 == 5) In this case, one of the conditions ((5 > 4)) is True, so the overall result is True.\n",
    "4. not ((5 > 4) or (3 == 5)) In this case this is False because the not operator negates the value, changing True to False.\n",
    "5. (True and True) and (True == False) In this case, this is False because one of the conditions is False.\n",
    "6. (not False) or (not True) In this case, this is True because at least one of the conditions is True.\n",
    "\n"
   ]
  },
  {
   "cell_type": "markdown",
   "id": "7d2ce1ce-4b1c-44b5-bed3-18f700fcf164",
   "metadata": {},
   "source": [
    "Question5: What are the six comparison operators?\n",
    "\n",
    "Answer: The six comparison operators are:\n",
    "\n",
    "1. Equal to (`==`)\n",
    "2. Not equal to (`!=`)\n",
    "3. Greater than (`>`)\n",
    "4. Less than (`<`)\n",
    "5. Greater than or equal to (`>=`)\n",
    "6. Less than or equal to (`<=`)"
   ]
  },
  {
   "cell_type": "markdown",
   "id": "dae3eca5-a6e3-4deb-a0ff-ab5fb35a6c81",
   "metadata": {},
   "source": [
    "Question6: How do you tell the difference between the equal to and assignment operators?Describe a\n",
    "condition and when you would use one.\n",
    "\n",
    "Answer: The difference between the equal to (`==`) and assignment (`=`) operators is in their purpose and usage:\r\n",
    "\r\n",
    "- `==` is a comparison operator used to check if two values are equal. For example, `x == y` checks if the value of `x` is equal to the value of `y`.\r\n",
    "\r\n",
    "- `=` is an assignment operator used to assign a value to a variable. For example, `x = 5` assigns the value `5` to the variable `x`.\r\n",
    "\r\n",
    "You would use `==` in conditions to compare values, like in an `if` statement to check if two values are equal. You would use `=` when you want to store or update a value in a variable. For example:\r\n",
    "\r\n",
    "```python\r\n",
    "x = 5  # Assigns the value 5 to variable x\r\n",
    "if x == 10:  # Checks if x is equal to 10\r\n",
    "    # Code to execute if x is equal to 10\r\n",
    "```\r\n",
    "\r\n",
    "In the example above, `=` is used for assignment, and `==` is used for comparison within the if` statement.a variable.\n",
    "f a variable."
   ]
  },
  {
   "cell_type": "markdown",
   "id": "e3d28829-82fd-4cc1-b479-65d36c859bc6",
   "metadata": {},
   "source": [
    "Question7: Identify the three blocks in this code:\n",
    "spam = 0\n",
    "if spam == 10:\n",
    "print(&#39;eggs&#39;)\n",
    "if spam &gt; 5:\n",
    "print(&#39;bacon&#39;)\n",
    "else:\n",
    "print(&#39;ham&#39;)\n",
    "print(&#39;spam&#39;)\n",
    "print(&#39;spam&#39;)\n",
    "\n",
    "Answer: \r\n",
    "In the provided code, there are three distinct blocks\n",
    "\r\n",
    "\r\n",
    "Block 1:\r\n",
    "\r\n",
    "makefile\r\n",
    "Copy code\r\n",
    "spam = 0\r\n",
    "This block consists of a single line that assigns the value 0 to the variable spam.\r\n",
    "\r\n",
    "Block 2:\r\n",
    "\r\n",
    "bash\r\n",
    "Copy code\r\n",
    "if spam == 10:\r\n",
    "print('eggs')\r\n",
    "This block is an if statement that checks if the value of spam is equal to 10. If it is, it prints 'eggs'. However, since spam is not equal to 10, 'eggs' will not be printed.\r\n",
    "\r\n",
    "Block 3:\r\n",
    "\r\n",
    "bash\r\n",
    "Copy code\r\n",
    "if spam > 5:\r\n",
    "print('bacon')\r\n",
    "else:\r\n",
    "print('ham')\r\n",
    "This block is another if statement that checks if the value of spam is greater than 5. If it is, it prints 'bacon'. Otherwise, if it's not greater than 5, it prints 'ham'. Since the value of spam is 0, 'ham' will be printed.:"
   ]
  },
  {
   "cell_type": "markdown",
   "id": "c3f099e6-4a68-4d18-b1fa-b458040ff538",
   "metadata": {},
   "source": [
    "Question8: Write code that prints Hello if 1 is stored in spam, prints Howdy if 2 is stored in spam, and prints\n",
    "Greetings! if anything else is stored in spam."
   ]
  },
  {
   "cell_type": "code",
   "execution_count": 4,
   "id": "88dceeaa-7aca-4c24-9027-26eeb7e77cdd",
   "metadata": {},
   "outputs": [
    {
     "name": "stdout",
     "output_type": "stream",
     "text": [
      "Hello\n"
     ]
    }
   ],
   "source": [
    "# Answer 8\n",
    "\n",
    "spam = 1  # You can change the value of spam to test different cases\n",
    "\n",
    "if spam == 1:\n",
    "    print('Hello')\n",
    "elif spam == 2:\n",
    "    print('Howdy')\n",
    "else:\n",
    "    print('Greetings!')\n"
   ]
  },
  {
   "cell_type": "markdown",
   "id": "1f622cb3-def6-4b12-8869-6894580a2cfd",
   "metadata": {},
   "source": [
    "Question9: If your programme is stuck in an endless loop, what keys you’ll press?\n",
    "\n",
    "Answer: \n",
    "1. Ctrl + C (or Command + C on macOS)\n",
    "2. Ctrl + Break"
   ]
  },
  {
   "cell_type": "markdown",
   "id": "2eaf4dea-cf98-42d5-807b-ff802eaba20e",
   "metadata": {},
   "source": [
    "Question10: How can you tell the difference between break and continue?\n",
    "\n",
    "Answer: In a very short way:\n",
    "\n",
    "- `break` is used to exit a loop prematurely, terminating the loop entirely.\n",
    "- `continue` is used to skip the current iteration of a loop and proceed to the next iteration."
   ]
  },
  {
   "cell_type": "markdown",
   "id": "4da93fdc-368f-41a8-8045-007064488622",
   "metadata": {},
   "source": [
    "Question11: Question10: In a for loop, what is the difference between range(10), range(0, 10), and range(0, 10, 1)?\n",
    "\n",
    "Answer: In a `for` loop in Python, there is no practical difference between `range(10)`, `range(0, 10)`, and `range(0, 10, 1)`:\r\n",
    "\r\n",
    "- `range(10)`: It generates numbers from 0 to 9 (inclusive), incrementing by the default step of 1.\r\n",
    "\r\n",
    "- `range(0, 10)`: It's equivalent to `range(10)` and generates numbers from 0 to 9 (inclusive), incrementing by the default step of 1.\r\n",
    "\r\n",
    "- `range(0, 10, 1)`: It's also equivalent to `range(10)` and generates numbers from 0 to 9 (inclusive), incrementing by 1.\r\n",
    "\r\n",
    "All three expressions will create the same sequence of numbers, and you can use any of them interchangeably in a `for` loop."
   ]
  },
  {
   "cell_type": "markdown",
   "id": "5cd232a8-749f-4b42-8d84-ebc9ab4bae52",
   "metadata": {},
   "source": [
    "Question12: Write a short program that prints the numbers 1 to 10 using a for loop. Then write an equivalent\n",
    "program that prints the numbers 1 to 10 using a while loop."
   ]
  },
  {
   "cell_type": "code",
   "execution_count": 8,
   "id": "ecdb1451-5ab2-4bac-a9ee-751912ce318e",
   "metadata": {},
   "outputs": [
    {
     "name": "stdout",
     "output_type": "stream",
     "text": [
      "1\n",
      "2\n",
      "3\n",
      "4\n",
      "5\n",
      "6\n",
      "7\n",
      "8\n",
      "9\n",
      "10\n"
     ]
    }
   ],
   "source": [
    "# Answer 12\n",
    "\n",
    "# Using a for loop:\n",
    "\n",
    "for i in range(1, 11):\n",
    "    print(i)\n"
   ]
  },
  {
   "cell_type": "code",
   "execution_count": 9,
   "id": "3029b414-cd71-4c9c-b7c9-4610c43e48e4",
   "metadata": {},
   "outputs": [
    {
     "name": "stdout",
     "output_type": "stream",
     "text": [
      "1\n",
      "2\n",
      "3\n",
      "4\n",
      "5\n",
      "6\n",
      "7\n",
      "8\n",
      "9\n",
      "10\n"
     ]
    }
   ],
   "source": [
    "# Using a while loop:\n",
    "\n",
    "i = 1\n",
    "while i <= 10:\n",
    "    print(i)\n",
    "    i += 1"
   ]
  },
  {
   "cell_type": "markdown",
   "id": "afb0b04b-6a2a-4597-a67b-6c100b243b34",
   "metadata": {},
   "source": [
    "Question13: If you had a function named bacon() inside a module named spam, how would you call it after\n",
    "importing spam?\n",
    "\n",
    "Answer: spam.bacon()\n",
    "\n",
    "This assumes that the bacon() function is defined within the spam module.\r\n"
   ]
  }
 ],
 "metadata": {
  "kernelspec": {
   "display_name": "Python 3 (ipykernel)",
   "language": "python",
   "name": "python3"
  },
  "language_info": {
   "codemirror_mode": {
    "name": "ipython",
    "version": 3
   },
   "file_extension": ".py",
   "mimetype": "text/x-python",
   "name": "python",
   "nbconvert_exporter": "python",
   "pygments_lexer": "ipython3",
   "version": "3.11.3"
  }
 },
 "nbformat": 4,
 "nbformat_minor": 5
}
