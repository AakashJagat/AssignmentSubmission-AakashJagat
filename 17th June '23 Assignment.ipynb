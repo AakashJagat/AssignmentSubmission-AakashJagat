{
 "cells": [
  {
   "cell_type": "markdown",
   "id": "bb65c627-0700-46ba-9296-f29532f6af87",
   "metadata": {},
   "source": [
    "Question1. What is the role of try and exception block?\n",
    "\n",
    "Answer: The try-except block in Python is used for handling exceptions or errors. Its role is to try a block of code, and if an exception occurs during execution, it allows you to gracefully handle the exception by specifying how your program should respond to the error. In other words, it helps in preventing your program from crashing when unexpected errors occur by providing a mechanism for handling those errors in a controlled manner."
   ]
  },
  {
   "cell_type": "markdown",
   "id": "4175a872-37e7-41a3-9189-23ac2c11b482",
   "metadata": {},
   "source": [
    "Question2. What is the syntax for a basic try-except block?\n",
    "\n",
    "Ansswer:\n",
    "Here's the basic syntax for a try-except block in Python:\r\n",
    "\r\n",
    "```python\r\n",
    "try:\r\n",
    "    # Code that may raise an exception\r\n",
    "    # ...\r\n",
    "except ExceptionType:\r\n",
    "    # Code to handle the exception\r\n",
    "    # ...\r\n",
    "```\r\n",
    "\r\n",
    "- `try`: This block contains the code that you want to monitor for exceptions.\r\n",
    "\r\n",
    "- `except ExceptionType`: If an exception of the specified type (`ExceptionType`) is raised in the `try` block, the code inside the `except` block is executed to handle the exception.\r\n",
    "\r\n",
    "You can customize the `except` block to handle different types of exceptions and provide specific error-handling logic for each type. ...\r\n"
   ]
  },
  {
   "cell_type": "markdown",
   "id": "3ed2e20a-e76c-4f31-a5c9-771d3a7f0011",
   "metadata": {},
   "source": [
    "Question3. What happens if an exception occurs inside a try block and there is no matching\r\n",
    "except block\n",
    "\n",
    "Answer: If an exception occurs inside a try block and there is no matching except block to handle that exception, the program will terminate, and an unhandled exception error will be raised. This error message will provide information about the type of exception and the line of code where it occurred. \r\n",
    "\r\n",
    "In Python, unhandled exceptions typically result in the program being terminated abruptly, and a traceback is displayed to help identify the issue. To prevent this from happening and to handle exceptions gracefully, it's important to include appropriate except blocks to catch and handle expected exceptions or to have a more general except block to catch unexpected exceptions and handle them or log them for debugging.? ...\r\n"
   ]
  },
  {
   "cell_type": "markdown",
   "id": "0769a41f-e2df-45ed-9eb9-488f15182698",
   "metadata": {},
   "source": [
    "Question4. What is the difference between using a bare except block and specifying a specific\n",
    "exception type?\n",
    "\n",
    "Answer: Using a specific exception type in an `except` block allows you to catch and handle only that type of exception or its subclasses, providing more precise error handling. In contrast, a bare `except` block catches all exceptions, including unexpected ones, which can make debugging and error identification more challenging. It's generally better to use specific exception types whenever possible for better control and error reporting."
   ]
  },
  {
   "cell_type": "markdown",
   "id": "5f733c7c-3349-40df-8232-e2c9257fcdbc",
   "metadata": {},
   "source": [
    "Question5. Can you have nested try-except blocks in Python? If yes, then give an example.\n",
    "\n",
    "Answer: Yes, you can have nested try-except blocks in Python. Nested try-except blocks allow you to handle exceptions at different levels of granularity within your code. Here's an example:"
   ]
  },
  {
   "cell_type": "code",
   "execution_count": 1,
   "id": "eee9254b-b2c6-41c9-9af5-53c55a7d9586",
   "metadata": {},
   "outputs": [
    {
     "name": "stdin",
     "output_type": "stream",
     "text": [
      "Enter a number:  5\n",
      "Enter another number:  1\n"
     ]
    },
    {
     "name": "stdout",
     "output_type": "stream",
     "text": [
      "The result is: 5.0\n",
      "Execution Completed.\n"
     ]
    }
   ],
   "source": [
    "try:\n",
    "    # Outer try block\n",
    "    x = int(input(\"Enter a number: \"))\n",
    "    y = int(input(\"Enter another number: \"))\n",
    "\n",
    "    try:\n",
    "        # Inner try block\n",
    "        result = x / y\n",
    "    except ZeroDivisionError:\n",
    "        print(\"Division by zero is not allowed\")\n",
    "\n",
    "except ValueError:\n",
    "    print(\"Invalid input. Please enter valid numbers.\")\n",
    "except Exception as e:\n",
    "    print(f\"An error occured: {e}\")\n",
    "else:\n",
    "    print(f\"The result is: {result}\")\n",
    "finally:\n",
    "    print(\"Execution Completed.\")"
   ]
  },
  {
   "cell_type": "markdown",
   "id": "04804353-1792-49b6-8e3a-01ed271bffdf",
   "metadata": {},
   "source": [
    "Question6. Can we use multiple exception blocks, if yes then give an example."
   ]
  },
  {
   "cell_type": "code",
   "execution_count": 2,
   "id": "4d03cea9-1211-451b-a476-feb6e1c8825a",
   "metadata": {},
   "outputs": [
    {
     "name": "stdin",
     "output_type": "stream",
     "text": [
      "Enter a number:  5\n",
      "Enter another number:  5\n"
     ]
    },
    {
     "name": "stdout",
     "output_type": "stream",
     "text": [
      "The result is: 1.0\n",
      "Execution completed.\n"
     ]
    }
   ],
   "source": [
    "try:\n",
    "    num1 = int(input(\"Enter a number: \"))\n",
    "    num2 = int(input(\"Enter another number: \"))\n",
    "    result = num1 / num2\n",
    "\n",
    "except ValueError:\n",
    "    print(\"Invalid input. Please enter valid numbers.\")\n",
    "\n",
    "except ZeroDivisionError:\n",
    "    print(\"Division by zero is not allowed.\")\n",
    "\n",
    "except Exception as e:\n",
    "    print(f\"An error occurred: {e}\")\n",
    "\n",
    "else:\n",
    "    print(f\"The result is: {result}\")\n",
    "\n",
    "finally:\n",
    "    print(\"Execution completed.\")\n"
   ]
  },
  {
   "cell_type": "markdown",
   "id": "b1cd486f-a47e-46fd-a801-3dafba0f8427",
   "metadata": {},
   "source": [
    "Question7. Write the reason due to which following errors are raised.\n",
    "\n",
    "Answer: Here are the reasons due to which the mentioned errors are raised:\r\n",
    "\r\n",
    "a. `EOFError`: This error is raised when an input operation (e.g., `input()`) reaches the end of a file or input stream unexpectedly. It typically occurs when trying to read more data than is available.\r\n",
    "\r\n",
    "b. `FloatingPointError`: This error occurs during floating-point arithmetic operations (e.g., division by zero or an invalid operation) when the result cannot be represented as a valid floating-point number.\r\n",
    "\r\n",
    "c. `IndexError`: This error is raised when you try to access an index that is outside the bounds of a sequence (e.g., a list or a string). It usually happens when trying to access an element beyond the range of valid indices.\r\n",
    "\r\n",
    "d. `MemoryError`: This error is raised when an operation attempts to allocate more memory than the system can provide, indicating that the system is out of memory resources.\r\n",
    "\r\n",
    "e. `OverflowError`: This error occurs during numerical operations when the result exceeds the maximum representable value for the data type in use. It typically occurs with integers.\r\n",
    "\r\n",
    "f. `TabError`: This error is raised when there are inconsistencies in the use of tabs and spaces for indentation in Python code, especially within the same block. Python expects consistent indentation to define code blocks.\r\n",
    "\r\n",
    "g. `ValueError`: This error is raised when an operation or function receives an argument of the correct data type but with an inappropriate or invalid value. It typically occurs when you pass an argument that is outside the expected range or does not make sense in the context of the operation.\r\n",
    "\r\n",
    "Understanding these error types helps in debugging and handling exceptions appropriately in Python programs."
   ]
  },
  {
   "cell_type": "markdown",
   "id": "b5ae05a3-4f17-4cd1-b2d2-fdb857f381fb",
   "metadata": {},
   "source": [
    "Question8. Write code for the following given scenario and add try-exception block to it.\n",
    "a. Program to divide two numbers\n",
    "b. Program to convert a string to an integer\n",
    "c. Program to access an element in a list\n",
    "d. Program to handle a specific exception\n",
    "e. Program to handle any exception"
   ]
  },
  {
   "cell_type": "markdown",
   "id": "0027bb87-e65d-4256-ade8-4866e2df51d7",
   "metadata": {},
   "source": [
    "Here's code for each of the scenarios you mentioned, along with try-except blocks to handle potential exceptions:\n",
    "\n",
    "a. Program to divide two numbers:\n",
    "\n",
    "```python\n",
    "try:\n",
    "    num1 = float(input(\"Enter the first number: \"))\n",
    "    num2 = float(input(\"Enter the second number: \"))\n",
    "    result = num1 / num2\n",
    "    print(f\"The result of the division is: {result}\")\n",
    "\n",
    "except ZeroDivisionError:\n",
    "    print(\"Error: Division by zero is not allowed.\")\n",
    "\n",
    "except ValueError:\n",
    "    print(\"Error: Invalid input. Please enter valid numbers.\")\n",
    "```\n",
    "\n",
    "b. Program to convert a string to an integer:\n",
    "\n",
    "```python\n",
    "try:\n",
    "    input_str = input(\"Enter an integer: \")\n",
    "    num = int(input_str)\n",
    "    print(f\"Successfully converted to an integer: {num}\")\n",
    "\n",
    "except ValueError:\n",
    "    print(\"Error: Invalid input. Please enter a valid integer.\")\n",
    "```\n",
    "\n",
    "c. Program to access an element in a list:\n",
    "\n",
    "```python\n",
    "try:\n",
    "    my_list = [1, 2, 3, 4, 5]\n",
    "    index = int(input(\"Enter an index to access an element: \"))\n",
    "    value = my_list[index]\n",
    "    print(f\"The element at index {index} is: {value}\")\n",
    "\n",
    "except IndexError:\n",
    "    print(\"Error: Index out of range. Please enter a valid index.\")\n",
    "\n",
    "except ValueError:\n",
    "    print(\"Error: Invalid input. Please enter a valid integer as the index.\")\n",
    "```\n",
    "\n",
    "d. Program to handle a specific exception:\n",
    "\n",
    "```python\n",
    "try:\n",
    "    number = int(input(\"Enter a number: \"))\n",
    "    if number < 0:\n",
    "        raise ValueError(\"Negative numbers are not allowed.\")\n",
    "\n",
    "except ValueError as e:\n",
    "    print(f\"Error: {e}\")\n",
    "```\n",
    "\n",
    "e. Program to handle any exception:\n",
    "\n",
    "```python\n",
    "try:\n",
    "    result = 10 / 0  # This will raise a ZeroDivisionError\n",
    "    print(result)    # This line won't be executed due to the exception\n",
    "\n",
    "except Exception as e:\n",
    "    print(f\"An error occurred: {e}\")\n",
    "```\n",
    "\n",
    "These examples illustrate how try-except blocks can be used to handle various types of exceptions in different scenarios."
   ]
  }
 ],
 "metadata": {
  "kernelspec": {
   "display_name": "Python 3 (ipykernel)",
   "language": "python",
   "name": "python3"
  },
  "language_info": {
   "codemirror_mode": {
    "name": "ipython",
    "version": 3
   },
   "file_extension": ".py",
   "mimetype": "text/x-python",
   "name": "python",
   "nbconvert_exporter": "python",
   "pygments_lexer": "ipython3",
   "version": "3.11.3"
  }
 },
 "nbformat": 4,
 "nbformat_minor": 5
}
