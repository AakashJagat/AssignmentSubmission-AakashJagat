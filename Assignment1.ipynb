{
 "cells": [
  {
   "cell_type": "markdown",
   "id": "29711b18-4f45-4f41-8350-dca77536b6d9",
   "metadata": {},
   "source": [
    "Question1. In the below elements which of them are values or an expression? eg:- values can be\n",
    "integer or string and expressions will be mathematical operators.\n",
    "\n",
    "1. (*) : Expression\n",
    "2. 'hello' : String\n",
    "3. -87.8 : Integer\n",
    "4. (-) : Expression\n",
    "5. (/) : Expression\n",
    "6. (+) : Expression\n",
    "7.  6 : Integer "
   ]
  },
  {
   "cell_type": "markdown",
   "id": "8c4423ed-99eb-429e-b8b7-1f4bdf34ed06",
   "metadata": {},
   "source": [
    "Question2. What is the difference between string and variable?\n",
    "\n",
    "Answer:\n",
    "In a short and summarized way:\r\n",
    "\r\n",
    "- String: A string is a sequence of characters (text) enclosed in quotes (e.g., \"Hello, world!\"). It is a specific data type used to store and manipulate textual information.\r\n",
    "\r\n",
    "- Variable: A variable is a container that can hold different types of data, including strings. It is a way to store and manage values that can change or be reused in a program. Strings can be assigned to variables for storage and manipulation."
   ]
  },
  {
   "cell_type": "markdown",
   "id": "22433def-9183-40ff-9421-83952e4c27c7",
   "metadata": {},
   "source": [
    "Question3. Describe three different data types.\n",
    "\n",
    "Answer: Certainly, here are descriptions of three different data types:\r\n",
    "\r\n",
    "1. Integer (int):\r\n",
    "   - An integer is a data type that represents whole numbers, both positive and negative, without any decimal or fractional part.\r\n",
    "   - Examples of integers include -3, 0, 42, and 1001.\r\n",
    "\r\n",
    "2. Floating-Point (float):\r\n",
    "   - A floating-point data type, often referred to as a \"float,\" is used to represent numbers with decimal points or fractions.\r\n",
    "   - Examples of floating-point numbers include 3.14, -0.5, 2.71828, and 123.456.\r\n",
    "\r\n",
    "3. Boolean (bool):\r\n",
    "   - A boolean data type can have one of two values: true or false. It is used for representing binary or logical values.\r\n",
    "   - Booleans are frequently used in conditional statements and logical operations.\r\n",
    "   - Examples include `True` and `False`, which are often used in programming to make decisions based on conditions."
   ]
  },
  {
   "cell_type": "markdown",
   "id": "baecd423-9b40-46f0-bd54-141f5e3e06cb",
   "metadata": {},
   "source": [
    "Question4: What is an expression made up of? What do all expressions do?\n",
    "\n",
    "Answer:An expression in programming is made up of one or more elements that can include:\n",
    "\n",
    "Values: These can be constants (like numbers or strings) or variables (which hold values).\n",
    "\n",
    "Operators: Operators are symbols or keywords that perform operations on values or variables. Examples of operators include addition (+), subtraction (-), multiplication (*), division (/), and comparison operators (e.g., == for equality, > for greater than).\n",
    "\n",
    "Functions: In some languages, expressions can include function calls. Functions are predefined or user-defined blocks of code that perform a specific task and return a value.\n",
    "\n",
    "Parentheses: Parentheses are used to control the order of evaluation in complex expressions. They ensure that certain operations are performed before others."
   ]
  },
  {
   "cell_type": "markdown",
   "id": "6691eaa5-273d-46f0-824c-3c93527657cb",
   "metadata": {},
   "source": [
    "Question5. This assignment statements, like spam = 10. What is the difference between an\n",
    "expression and a statement?\n",
    "\n",
    "Answer: \n",
    "The key difference between an expression and a statement in programming lies in their purpose and behavior:\r\n",
    "\r\n",
    "\r\n",
    "An expression is a combination of values, variables, operators, and functions that evaluates to a single value.\r\n",
    "The primary purpose of an expression is to produce a value.\r\n",
    "Expressions can be used within statements to compute values or perform operations.\r\n",
    "Example: 2 + 3 is an expression that evaluate\n",
    "tement:\r\n",
    "\r\n",
    "A statement is a complete line of code that performs a specific action or task.\r\n",
    "Statements don't necessarily produce a value but instead instruct the computer to do something.\r\n",
    "Examples of statements include assignment statements (e.g., spam = 10), control flow statements (e.g., if, while, for), and function declarations.\r\n",
    "Statements can contain expressions, but their primary purpose is to control the flow of a program or perform actions.\r\n",
    "Example: spam = 10 is a statement that assigns the value 10 to the variable spam.variable spam."
   ]
  },
  {
   "cell_type": "markdown",
   "id": "2abd0f35-fa23-4cdc-9864-97545295d9d4",
   "metadata": {},
   "source": [
    "Question6: After running the following code, what does the variable bacon contain?\n",
    "bacon = 22\n",
    "bacon + 1"
   ]
  },
  {
   "cell_type": "code",
   "execution_count": 2,
   "id": "a84c6e77-ca27-41cf-8fdf-04ab43baa9ad",
   "metadata": {},
   "outputs": [
    {
     "data": {
      "text/plain": [
       "23"
      ]
     },
     "execution_count": 2,
     "metadata": {},
     "output_type": "execute_result"
    }
   ],
   "source": [
    "bacon=22\n",
    "bacon+1"
   ]
  },
  {
   "cell_type": "markdown",
   "id": "e9fd321f-cf95-4243-bf00-f63b7b928681",
   "metadata": {},
   "source": [
    "Answer: Bacon will contain 23. "
   ]
  },
  {
   "cell_type": "markdown",
   "id": "9264f61f-a15f-4c92-912e-5921f03aba1b",
   "metadata": {},
   "source": [
    "Question7: What should the values of the following two terms be?\n",
    "'spam' (+) 'spamspam'\r",
    "';spm' * \n",
    "\n",
    "Answer: In Python, both of the expressions involve the string 'spam':\r\n",
    "\r\n",
    "'spam' + 'spamspam':\r\n",
    "\r\n",
    "This expression uses the + operator to concatenate (join together) two strings.\r\n",
    "The result of this expression is 'spamspamspam', which is the original string 'spam' followed by 'spamspam'.\r\n",
    "'spam' * 3:\r\n",
    "\r\n",
    "This expression uses the * operator to repeat (multiply) a string by a number.\r\n",
    "The result of this expression is 'spamspamspam', which is the string 'spam' repeated thr\n",
    "ee times.\r\n",
    "So, both expressions ultimately produce the same output string: 'spamspamspam'.\n",
    "3"
   ]
  },
  {
   "cell_type": "markdown",
   "id": "8e899983-0620-49ad-8358-3204ed721e24",
   "metadata": {},
   "source": [
    "Question8: Why is eggs a valid variable name while 100 is invalid?\n",
    "\n",
    "Answer: Variable names in Python languages follow certain rules:\n",
    "\n",
    "1. They cannot start with a digit (number).\n",
    "2. They can contain letters, digits, and underscores.\n",
    "3. eggs is valid because it starts with a letter.\n",
    "4. 100 is invalid because it starts with a digit, which violates the first rule."
   ]
  },
  {
   "cell_type": "markdown",
   "id": "fc183309-7f17-4d5c-93d5-86926fa53af2",
   "metadata": {},
   "source": [
    "Question9: What three functions can be used to get the integer, floating-point number, or string\n",
    "version of a value?\n",
    "\n",
    "Answer: \n",
    "1. `int()`: Converts a value to an integer.\r\n",
    "2. `float()`: Converts a value to a floating-point number.\r\n",
    "3. `str()`: Converts a value to a string."
   ]
  },
  {
   "cell_type": "markdown",
   "id": "7fe8e9f2-1b1b-4281-808c-0da7fe507f16",
   "metadata": {},
   "source": [
    "Question10: Why does this expression cause an error? How can you fix it?\n",
    "&#39;I have eaten &#39; + 99 + &#39; burritos.&#39;\n",
    "\n",
    "Answer: The expression 'I have eaten ' + 99 + ' burritos.' causes an error because you are trying to concatenate a string with an integer (99) directly, and in many programming languages, you cannot directly concatenate different data types like this.\r\n",
    "\r\n",
    "To fix it, you should convert the integer 99 to a string using str() before concatenating it with the other string\n",
    "\n",
    "'I have eaten ' + str(99) + ' burritos.'\r\n",
    "This will correctly concatenate the string and the integer as a string, resulting in: 'I have eaten 99 burritos.'\n",
    "\n",
    "s:"
   ]
  },
  {
   "cell_type": "code",
   "execution_count": null,
   "id": "9c4b79f5-367a-42ce-b848-ecb5fc13a3cf",
   "metadata": {},
   "outputs": [],
   "source": [
    "\n"
   ]
  },
  {
   "cell_type": "code",
   "execution_count": null,
   "id": "4547b63d-c066-40e0-ac28-435268db0930",
   "metadata": {},
   "outputs": [],
   "source": []
  }
 ],
 "metadata": {
  "kernelspec": {
   "display_name": "Python 3 (ipykernel)",
   "language": "python",
   "name": "python3"
  },
  "language_info": {
   "codemirror_mode": {
    "name": "ipython",
    "version": 3
   },
   "file_extension": ".py",
   "mimetype": "text/x-python",
   "name": "python",
   "nbconvert_exporter": "python",
   "pygments_lexer": "ipython3",
   "version": "3.11.3"
  }
 },
 "nbformat": 4,
 "nbformat_minor": 5
}
