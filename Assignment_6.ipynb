{
 "cells": [
  {
   "cell_type": "markdown",
   "id": "a5f3be0d-b1bb-4def-b3c8-37f7094421a5",
   "metadata": {},
   "source": [
    "Question1. What are keywords in python? Using the keyword library, print all the python keywords.\n",
    "\n",
    "Answer: In Python, keywords are reserved words that have special meanings and are used to define the structure and logic of a program. These keywords cannot be used as variable names or identifiers because they are reserved for specific purposes in the language.\r\n",
    "\r\n",
    "You can use the keyword module in Python to access a list of all the keywords. Here's how you can print all the Python keywords using the keyword modu.e:\n"
   ]
  },
  {
   "cell_type": "code",
   "execution_count": 2,
   "id": "dd66026c-de49-4ab4-b7a1-ea4d5a369cb4",
   "metadata": {},
   "outputs": [
    {
     "name": "stdout",
     "output_type": "stream",
     "text": [
      "False\n",
      "None\n",
      "True\n",
      "and\n",
      "as\n",
      "assert\n",
      "async\n",
      "await\n",
      "break\n",
      "class\n",
      "continue\n",
      "def\n",
      "del\n",
      "elif\n",
      "else\n",
      "except\n",
      "finally\n",
      "for\n",
      "from\n",
      "global\n",
      "if\n",
      "import\n",
      "in\n",
      "is\n",
      "lambda\n",
      "nonlocal\n",
      "not\n",
      "or\n",
      "pass\n",
      "raise\n",
      "return\n",
      "try\n",
      "while\n",
      "with\n",
      "yield\n"
     ]
    }
   ],
   "source": [
    "import keyword\n",
    "\n",
    "# Get a list of all Python keywords\n",
    "keywords = keyword.kwlist\n",
    "\n",
    "# Print the list of keywords\n",
    "for kw in keywords:\n",
    "    print(kw)"
   ]
  },
  {
   "cell_type": "markdown",
   "id": "52fc5f57-436c-47b3-94ae-1add44d98530",
   "metadata": {},
   "source": [
    "Question2. What are the rules to create variables in python?\n",
    "\n",
    "Answer: In Python, variables are created and used following these rules:\r\n",
    "\r\n",
    "1. Variable names can contain letters, numbers, and underscores.\r\n",
    "2. Variable names must start with a letter (a-z, A-Z) or an underscore (_).\r\n",
    "3. Variable names are case-sensitive (e.g., `myVar` and `myvar` are different variables).\r\n",
    "4. Python keywords (reserved words) cannot be used as variable names.\r\n",
    "5. Variable names should be descriptive and follow a naming convention (e.g., snake_case for regular variables and CamelCase for classes).\r\n",
    "\r\n",
    "Here's an example of valid variable names:\r\n",
    "\r\n",
    "```python\r\n",
    "my_variable = 42\r\n",
    "user_name = \"John\"\r\n",
    "myList = [1, 2, 3]\r\n",
    "```\r\n",
    "\r\n",
    "And here are some examples of invalid variable names:\r\n",
    "\r\n",
    "```python\r\n",
    "1variable = \"Invalid\"  # Starts with a number\r\n",
    "my-variable = 10       # Contains a hyphen\r\n",
    "for = 5                # Uses a Python keyword as a variable name\r\n",
    "```\r\n",
    "\r\n",
    "Following these rules ensures that your variables are valid and readable in Python code."
   ]
  },
  {
   "cell_type": "markdown",
   "id": "25b097f3-9a4e-4b16-aec1-64631b316fcc",
   "metadata": {},
   "source": [
    "Qustion3 What are the standards and conventions followed for the nomenclature of variables in\n",
    "python to improve code readability and maintainability?\n",
    "\n",
    "Answer: In Python, the following naming conventions are commonly followed to improve code readability and maintainability:\n",
    "\n",
    "1. **Snake Case**: Use lowercase letters with underscores to separate words in variable names (e.g., `my_variable`, `user_name`).\n",
    "\n",
    "2. **Camel Case**: Use initial lowercase letters for the first word and capitalize the first letter of each subsequent word (e.g., `myVariable`, `userName`). This convention is often used for naming functions and methods.\n",
    "\n",
    "3. **UPPER_CASE**: Use all uppercase letters with underscores to denote constants (e.g., `MAX_VALUE`, `PI`).\n",
    "\n",
    "4. **Single Underscore Prefix**: Use a single underscore prefix (e.g., `_internal_var`) to indicate that a variable or function is intended for internal use within a module and should not be accessed directly from outside the module.\n",
    "\n",
    "5. **Double Underscore Prefix**: Use a double underscore prefix (e.g., `__private_var`) to invoke name mangling, making it harder to accidentally override attributes in subclasses.\n",
    "\n",
    "By following these naming conventions, Python code becomes more consistent and easier to understand, promoting better code readability and maintainability."
   ]
  },
  {
   "cell_type": "markdown",
   "id": "b03c95e5-555d-473c-9084-6005d775cd6e",
   "metadata": {},
   "source": [
    "Question4. What will happen if a keyword is used as a variable name?\n",
    "\n",
    "Answer: If a keyword is used as a variable name in Python, it will result in a syntax error. Keywords are reserved for specific purposes in the language, and they cannot be used as identifiers or variable names. Python will raise an error when it encounters a variable with a keyword as its name, preventing the code from running.\n"
   ]
  },
  {
   "cell_type": "markdown",
   "id": "a8d6a123-8df9-407c-beb5-bd3c0f7223a4",
   "metadata": {},
   "source": [
    "Question5. For what purpose def keyword is used?\n",
    "\n",
    "Answer: The `def` keyword in Python is used to define and create functions. It is used to declare a user-defined function, allowing you to encapsulate a block of code with a name and parameters so that you can reuse it throughout your program. Functions are a fundamental building block in Python for organizing and structuring code."
   ]
  },
  {
   "cell_type": "markdown",
   "id": "5003c405-92c8-4ca8-9466-7f3522cf61eb",
   "metadata": {},
   "source": [
    "Question6. What is the operation of this special character ‘\\’?\n",
    "\n",
    "Answer: The special character `\\` in Python is used as an escape character. It is used to escape or indicate that the character following it should be treated specially. For example:\r\n",
    "\r\n",
    "- `\\n`: Represents a newline character.\r\n",
    "- `\\t`: Represents a tab character.\r\n",
    "- `\\\\`: Represents a literal backslash character.\r\n",
    "- `\\'` and `\\\"`: Represent single and double quotation marks, respectively, within a string.\r\n",
    "- `\\uXXXX` and `\\UXXXXXXXX`: Represent Unicode characters using their hexadecimal code points.\r\n",
    "\r\n",
    "In essence, the backslash `\\` is used to escape or modify the interpretation of the character(s) that follow it in a string or character literal."
   ]
  },
  {
   "cell_type": "markdown",
   "id": "b36d6f1c-1644-43e3-a824-a2ecfebfea03",
   "metadata": {},
   "source": [
    "Question7. Give an example of the following conditions:\n",
    "(i) Homogeneous list\n",
    "(ii) Heterogeneous set\n",
    "(iii) Homogeneous tuple\n",
    "\n",
    "Answer: Sure, here are examples of each:\n",
    "\n",
    "(i) Homogeneous list: A list containing elements of the same data type.\n",
    "```python\n",
    "homogeneous_list = [1, 2, 3, 4, 5]\n",
    "```\n",
    "\n",
    "(ii) Heterogeneous set: A set containing elements of different data types.\n",
    "```python\n",
    "heterogeneous_set = {1, 'apple', 3.14, True}\n",
    "```\n",
    "\n",
    "(iii) Homogeneous tuple: A tuple containing elements of the same data type.\n",
    "```python\n",
    "homogeneous_tuple = (10, 20, 30, 40, 50)\n",
    "```"
   ]
  },
  {
   "cell_type": "markdown",
   "id": "7a257f76-90cb-452c-b56e-b55fd5c5306a",
   "metadata": {},
   "source": [
    "Question8. Explain the mutable and immutable data types with proper explanation & examples.\n",
    "\n",
    "Answer: Mutable data types in Python can be changed or modified after creation, while immutable data types cannot be changed once they are created.\r\n",
    "\r\n",
    "Examples of mutable data types:\r\n",
    "1. Lists: You can add, remove, or modify elements.\r\n",
    "```python\r\n",
    "my_list = [1, 2, 3]\r\n",
    "my_list.append(4)  # Modifying the list\r\n",
    "```\r\n",
    "\r\n",
    "2. Dictionaries: You can add, remove, or modify key-value pairs.\r\n",
    "```python\r\n",
    "my_dict = {'name': 'John', 'age': 30}\r\n",
    "my_dict['age'] = 31  # Modifying the dictionary\r\n",
    "```\r\n",
    "\r\n",
    "3. Sets: You can add or remove elements.\r\n",
    "```python\r\n",
    "my_set = {1, 2, 3}\r\n",
    "my_set.add(4)  # Modifying the set\r\n",
    "```\r\n",
    "\r\n",
    "Immutable data types, on the other hand, cannot be changed:\r\n",
    "1. Strings: You cannot change individual characters in a string.\r\n",
    "```python\r\n",
    "my_string = \"Hello\"\r\n",
    "# Attempting to modify it will result in an error: my_string[0] = 'M'\r\n",
    "```\r\n",
    "\r\n",
    "2. Tuples: You cannot change elements in a tuple.\r\n",
    "```python\r\n",
    "my_tuple = (1, 2, 3)\r\n",
    "# Attempting to modify it will result in an error: my_tuple[0] = 4\r\n",
    "```\r\n",
    "\r\n",
    "3. Integers, floats, and other basic data types: These values are immutable.\r\n",
    "```python\r\n",
    "my_int = 5\r\n",
    "# You cannot change it directly: my_int = 10\r\n",
    "```\r\n",
    "\r\n",
    "Understanding mutability is important because it affects how data is stored and manipulated in Python, impacting aspects like variable assignment and function behavior."
   ]
  },
  {
   "cell_type": "markdown",
   "id": "b0baa989-6e5d-415d-8da1-27709810e8b1",
   "metadata": {},
   "source": [
    "Q.9. Write a code to create the given structure using only for loop."
   ]
  },
  {
   "cell_type": "code",
   "execution_count": 17,
   "id": "cde55786-dfea-4936-9bdb-4ded25a0b814",
   "metadata": {},
   "outputs": [
    {
     "name": "stdout",
     "output_type": "stream",
     "text": [
      "    *\n",
      "   ***\n",
      "  *****\n",
      " *******\n",
      "*********\n"
     ]
    }
   ],
   "source": [
    "for i in range(1,6):\n",
    "    print(\" \" * (5 - i) + \"*\" * (2 * i - 1)) "
   ]
  },
  {
   "cell_type": "code",
   "execution_count": 13,
   "id": "a78fecd7-877a-4279-9ad3-dce1dadbe005",
   "metadata": {},
   "outputs": [
    {
     "name": "stdout",
     "output_type": "stream",
     "text": [
      "    *\n",
      "   ***\n",
      "  *****\n",
      " *******\n",
      "*********\n"
     ]
    }
   ],
   "source": [
    "for i in range (1,6):\n",
    "    print(\" \" * (5-i) + \"*\" * (2 * i -1))"
   ]
  },
  {
   "cell_type": "code",
   "execution_count": 15,
   "id": "eb28fe92-ff8c-49b9-a84e-cb0a3a2ef4c0",
   "metadata": {},
   "outputs": [
    {
     "name": "stdout",
     "output_type": "stream",
     "text": [
      "    @\n",
      "   @@@\n",
      "  @@@@@\n",
      " @@@@@@@\n",
      "@@@@@@@@@\n"
     ]
    }
   ],
   "source": [
    "for i in range (1,6):\n",
    "    print(\" \" * (5-i) + \"@\" * (2 * i -1))"
   ]
  },
  {
   "cell_type": "markdown",
   "id": "6b23d17b-404d-4a33-a751-844bc6254b3d",
   "metadata": {},
   "source": [
    "Q.10. Write a code to create the given structure using while loop."
   ]
  },
  {
   "cell_type": "code",
   "execution_count": 19,
   "id": "421a4f03-0448-4df9-a25a-ca6740dc805a",
   "metadata": {},
   "outputs": [
    {
     "name": "stdout",
     "output_type": "stream",
     "text": [
      "!!!!!!!!!!\n",
      " !!!!!!!!\n",
      "  !!!!!!\n",
      "   !!!!\n",
      "    !!\n"
     ]
    }
   ],
   "source": [
    "for i in range (5):\n",
    "    print(\" \" * i + \"!\" * (5 - i) * 2)"
   ]
  }
 ],
 "metadata": {
  "kernelspec": {
   "display_name": "Python 3 (ipykernel)",
   "language": "python",
   "name": "python3"
  },
  "language_info": {
   "codemirror_mode": {
    "name": "ipython",
    "version": 3
   },
   "file_extension": ".py",
   "mimetype": "text/x-python",
   "name": "python",
   "nbconvert_exporter": "python",
   "pygments_lexer": "ipython3",
   "version": "3.11.3"
  }
 },
 "nbformat": 4,
 "nbformat_minor": 5
}
