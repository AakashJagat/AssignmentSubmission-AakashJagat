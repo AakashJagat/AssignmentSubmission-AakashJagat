{
 "cells": [
  {
   "cell_type": "markdown",
   "id": "182d4c7e-2d3a-4cf7-9f09-26c6b52feef2",
   "metadata": {},
   "source": [
    "Question1. What exactly is []?\n",
    "\n",
    "Answer: In Python, `[]` represents an empty list. It's a built-in data structure used to store a collection of items, but in this case, the list contains no elements. It's essentially a list with zero items."
   ]
  },
  {
   "cell_type": "markdown",
   "id": "625b08fd-6464-4e06-902f-d0a6bb8f85b5",
   "metadata": {},
   "source": [
    "Question2: In a list of values stored in a variable called spam, how would you assign the value &#39;hello&#39; as the\n",
    "third value? (Assume [2, 4, 6, 8, 10] are in spam.)\n",
    "\n",
    "Answer: \n",
    "To assign the value 'hello' as the third value in a list stored in a variable called `spam`, you can use indexing and assignment like this:\r\n",
    "\r\n",
    "```python\r\n",
    "spam = [2, 4, 6, 8, 10]\r\n",
    "spam[2] = 'hello'\r\n",
    "```\r\n",
    "\r\n",
    "After executing these lines, the `spam` list will be `[2, 4, 'hello', 8, 10]`, with 'hello' as the third element (index 2)."
   ]
  },
  {
   "cell_type": "markdown",
   "id": "68e4885b-52db-4368-ac99-72d033fa6c49",
   "metadata": {},
   "source": [
    "Question3: What is the value of spam[int(int(&#39;3&#39; * 2) / 11)]?\n",
    "\n",
    "Answer: The value of `spam[int(int('3' * 2) / 11)]` can be calculated as follows:\r\n",
    "\r\n",
    "1. `'3' * 2` results in the string `'33'`.\r\n",
    "2. `int('33')` converts the string to an integer, resulting in the value `33`.\r\n",
    "3. `33 / 11` performs integer division, which results in `3`.\r\n",
    "4. Finally, `spam[3]` retrieves the element at index 3 in the `spam` list.\r\n",
    "\r\n",
    "So, if `spam` is `[2, 4, 6, 8, 10]`, then the value of `spam[int(int('3' * 2) / 11)]` is `8`.\n"
   ]
  },
  {
   "cell_type": "markdown",
   "id": "ab97a7ef-6ce2-4ac5-9af0-161bf0892706",
   "metadata": {},
   "source": [
    "Question4: What is the value of spam[-1]?\n",
    "\n",
    "Answer: The value of `spam[-1]` refers to the last element in the list `spam`. \r\n",
    "\r\n",
    "If `spam` is `[2, 4, 6, 8, 10]`, then `spam[-1]` is equal to `10`."
   ]
  },
  {
   "cell_type": "markdown",
   "id": "e1199852-ca0a-437d-9bf2-b6aef96c2f10",
   "metadata": {},
   "source": [
    "Question5: What is the value of spam[:2]?\n",
    "\n",
    "Answer: The value of `spam[:2]` is a sublist containing the first two elements of the list `spam`.\r\n",
    "\r\n",
    "If `spam` is `[2, 4, 6, 8, 10]`, then `spam[:2]` is `[2, 4]`. It includes all elements from the beginning of the list up to (but not including) the element at index 2."
   ]
  },
  {
   "cell_type": "markdown",
   "id": "a5b9e0d2-ef31-4655-98d4-905e5262f4dc",
   "metadata": {},
   "source": [
    "Question6. What is the value of bacon.index(&#39;cat&#39;)? Let&#39;s pretend bacon has the list [3.14, &#39;cat,&#39; 11, &#39;cat,&#39; True]\n",
    "\n",
    "Answer: The value of `bacon.index('cat')` will be `1`. \r\n",
    "t."
   ]
  },
  {
   "cell_type": "markdown",
   "id": "9a5fad53-7a51-4695-b656-815f164c2403",
   "metadata": {},
   "source": [
    "Question7: How does bacon.append(99) change the look of the list value in bacon? Let&#39;s pretend bacon has the list [3.14, &#39;cat,&#39; 11, &#39;cat,&#39; True]\n",
    "\n",
    "Answer: The bacon.append(99) operation will add the value 99 to the end of the list bacon. [3.14, 'cat,', 11, 'cat,', True, 99]"
   ]
  },
  {
   "cell_type": "markdown",
   "id": "d68c08d9-f5e1-43dc-b3db-83b4af34e066",
   "metadata": {},
   "source": [
    "Question8: How does bacon.remove(&#39;cat&#39;) change the look of the list in bacon?\n",
    "\n",
    "Answer: The `bacon.remove('cat')` operation will change the list `bacon` by removing the first occurrence of the string 'cat' from the list. After this operation, the list will look like this:\n",
    "\n",
    "```python\n",
    "[3.14, 11, 'cat,', True]\n",
    "```\n",
    "As you can see, the first occurrence of 'cat' (with a comma) has been removed from the list."
   ]
  },
  {
   "cell_type": "markdown",
   "id": "56a62151-a593-46a0-ba40-2167bc9544f1",
   "metadata": {},
   "source": [
    "Question9: What are the list concatenation and list replication operators?\n",
    "\n",
    "Answer: In Python:\r\n",
    "\r\n",
    "- The list concatenation operator is `+`. It is used to combine two or more lists into a single list.\r\n",
    "- The list replication operator is `*`. It is used to create a new list by repeating the elements of an existing list a certain number of times."
   ]
  },
  {
   "cell_type": "markdown",
   "id": "0ee7375c-6885-4145-8de2-2734568130aa",
   "metadata": {},
   "source": [
    "Question10: What is difference between the list methods append() and insert()?\n",
    "\n",
    "Answer: The difference between the list methods `append()` and `insert()` is as follows:\r\n",
    "\r\n",
    "- `append(item)`: This method adds an item to the end of a list. It doesn't require specifying an index. The new item becomes the last element in the list.\r\n",
    "\r\n",
    "- `insert(index, item)`: This method inserts an item at a specific position within the list, defined by the `index` argument. The item is inserted before the element at the specified index, and existing elements may be shifted to make room for it.\r\n",
    "\r\n",
    "In summary, `append()` adds an item to the end of the list, while `insert()` allows you to specify the position at which to insert an item in the list."
   ]
  },
  {
   "cell_type": "markdown",
   "id": "0d531944-2173-485e-94a1-787796513839",
   "metadata": {},
   "source": [
    "Qustion11: What are the two methods for removing items from a list?\n",
    "\n",
    "Answer: The two methods for removing items from a list in Python are:\r\n",
    "\r\n",
    "1. `remove(item)`: This method removes the first occurrence of the specified item from the list. If the item is not found, it raises a `ValueError` exception.\r\n",
    "\r\n",
    "2. `pop(index)`: This method removes the item at the specified index from the list and returns the removed item. If no index is provided, it removes and returns the last item by default. If the index is out of range, it raises an `IndexError` exception."
   ]
  },
  {
   "cell_type": "markdown",
   "id": "aaac365b-126d-4e52-a090-0ae925267e31",
   "metadata": {},
   "source": [
    "Question12. Describe how list values and string values are identical.\n",
    "\n",
    "Answer: List values and string values are both sequences of elements in Python. They share the following similarities:\r\n",
    "\r\n",
    "- Both can be indexed and sliced.\r\n",
    "- Both support the `len()` function to determine their length.\r\n",
    "- Both can be concatenated using `+`.\r\n",
    "- Both can be replicated using `*`.\r\n",
    "\r\n",
    "However, they differ in that list elements can be of different data types, while string elements are characters."
   ]
  },
  {
   "cell_type": "markdown",
   "id": "502caf50-1fbb-4e40-9174-8762f3b6af24",
   "metadata": {},
   "source": [
    "Question13: What&#39;s the difference between tuples and lists?\n",
    "\n",
    "Answer: The main differences between tuples and lists in Python are:\n",
    "\n",
    "1. **Mutability:**\n",
    "   - Lists are mutable, which means you can change their elements (add, remove, or modify) after they are created.\n",
    "   - Tuples are immutable, which means once you create a tuple, you cannot change its elements. You can't add, remove, or modify elements.\n",
    "\n",
    "2. **Syntax:**\n",
    "   - Lists are enclosed in square brackets, e.g., `[1, 2, 3]`.\n",
    "   - Tuples are enclosed in parentheses, e.g., `(1, 2, 3)`.\n",
    "\n",
    "3. **Performance:**\n",
    "   - Lists are generally slightly slower than tuples because of their mutability.\n",
    "   - Tuples are faster and use less memory because of their immutability.\n",
    "\n",
    "4. **Use Case:**\n",
    "   - Lists are typically used when you have a collection of items that may change over time.\n",
    "   - Tuples are used when you want to create a collection of items that should not change during the program's execution, such as coordinates or keys in a dictionary.\n",
    "\n",
    "In summary, lists are mutable, enclosed in square brackets, and used for collections of items that can change. Tuples are immutable, enclosed in parentheses, and used for collections of items that should remain constant."
   ]
  },
  {
   "cell_type": "markdown",
   "id": "12368a85-8698-475b-a511-adbefe1b6480",
   "metadata": {},
   "source": [
    "Question14:. How do you type a tuple value that only contains the integer 42?\n",
    "\n",
    "Answer: To create a tuple that contains only the integer 42, you can enclose it within parentheses:\n",
    "\n",
    "```python\n",
    "my_tuple = (42,)\n",
    "```\n",
    "\n",
    "Note the comma after the `42`. Including the comma is important because it distinguishes the tuple from a simple expression in parentheses."
   ]
  },
  {
   "cell_type": "markdown",
   "id": "851c1223-f8b3-47f0-9e4a-abcf7d71fff7",
   "metadata": {},
   "source": [
    "Question15: How do you get a list value&#39;s tuple form? How do you get a tuple value&#39;s list form?\n",
    "\n",
    "Answer: \r\n",
    "To convert a list to a tuple:"
   ]
  },
  {
   "cell_type": "code",
   "execution_count": 2,
   "id": "9a529481-c424-415f-a34e-1a2edccd5ea6",
   "metadata": {},
   "outputs": [],
   "source": [
    "my_list = [1, 2, 3]\n",
    "my_tuple = tuple(my_list)\n"
   ]
  },
  {
   "cell_type": "code",
   "execution_count": 4,
   "id": "d7e584d6-4814-4eae-9e7e-171707b4e59c",
   "metadata": {},
   "outputs": [],
   "source": [
    "my_tuple = (4, 5, 6)\n",
    "my_list = list(my_tuple)\n",
    "\n",
    "# We can use the tuple() constructor to convert a list to a tuple, \n",
    "# and the list() constructor to convert a tuple to a list."
   ]
  },
  {
   "cell_type": "markdown",
   "id": "88cdb53f-fdaf-46ca-b96f-fe79fb6945e4",
   "metadata": {},
   "source": [
    "Question16: Variables that &quot;contain&quot; list values are not necessarily lists themselves. Instead, what do they\n",
    "contain?\n",
    "\n",
    "Answer: Variables that \"contain\" list values in Python actually contain references or pointers to those lists. In Python, variables are references to objects in memory, and when you assign a list to a variable, the variable stores a reference to the memory location where the list is stored. This means that multiple variables can refer to the same list, and changes made to the list through one variable will affect the list for all variables that reference it."
   ]
  },
  {
   "cell_type": "markdown",
   "id": "a37a9aad-1859-4da6-873d-1fd89d36183f",
   "metadata": {},
   "source": [
    "Question17: How do you distinguish between copy.copy() and copy.deepcopy()?\n",
    "\n",
    "Answer: `copy.copy()` and `copy.deepcopy()` are two functions provided by the `copy` module in Python, and they serve different purposes:\r\n",
    "\r\n",
    "1. `copy.copy()` (Shallow Copy):\r\n",
    "   - It creates a new object that is a shallow copy of the original object.\r\n",
    "   - For lists and dictionaries, it creates a new container object but does not create copies of the objects within the container.\r\n",
    "   - Changes to objects within the copied container will be reflected in the original container and vice versa.\r\n",
    "\r\n",
    "2. `copy.deepcopy()` (Deep Copy):\r\n",
    "   - It creates a new object that is a deep copy of the original object.\r\n",
    "   - It recursively creates copies of all objects within the original object, including nested objects.\r\n",
    "   - Changes to objects within the copied structure will not affect the original structure, and vice versa.\r\n",
    "\r\n",
    "In summary, `copy.copy()` creates a shallow copy with shared references to nested objects, while `copy.deepcopy()` creates a deep copy with entirely independent copies of all nested objects."
   ]
  }
 ],
 "metadata": {
  "kernelspec": {
   "display_name": "Python 3 (ipykernel)",
   "language": "python",
   "name": "python3"
  },
  "language_info": {
   "codemirror_mode": {
    "name": "ipython",
    "version": 3
   },
   "file_extension": ".py",
   "mimetype": "text/x-python",
   "name": "python",
   "nbconvert_exporter": "python",
   "pygments_lexer": "ipython3",
   "version": "3.11.3"
  }
 },
 "nbformat": 4,
 "nbformat_minor": 5
}
