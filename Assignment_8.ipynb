{
 "cells": [
  {
   "cell_type": "markdown",
   "id": "1245088f-1398-41ee-b3d6-69bd066bf31e",
   "metadata": {},
   "source": [
    "Question1. In Python, what is the difference between a built-in function and a user-defined function? Provide an\n",
    "example of each."
   ]
  },
  {
   "cell_type": "markdown",
   "id": "59af94d9-cde8-43ba-a409-20eaee8f02af",
   "metadata": {},
   "source": [
    "Answer: Built-in Function:\r\n",
    "\r\n",
    "Built-in functions are pre-defined functions that are part of the Python standard library.\r\n",
    "They are readily available for use in Python without any need for custom implementation.\r\n",
    "Examples include print(), len(), max(), min(), and str(). These functions perform common operations and are available for all Python programs by default.\r\n",
    "Example:"
   ]
  },
  {
   "cell_type": "code",
   "execution_count": 1,
   "id": "32525578-32ae-45be-a04b-51711496efc0",
   "metadata": {},
   "outputs": [
    {
     "name": "stdout",
     "output_type": "stream",
     "text": [
      "Hello, world!\n"
     ]
    }
   ],
   "source": [
    "# Using a built-in function\n",
    "print(\"Hello, world!\")"
   ]
  },
  {
   "cell_type": "markdown",
   "id": "46e21d92-b47f-4d1e-83ac-ae7c7ceab36c",
   "metadata": {},
   "source": [
    "User-Defined Function:\n",
    "\n",
    "User-defined functions are created by the programmer to perform specific tasks or operations.\n",
    "They are defined using the def keyword, followed by a function name and a block of code.\n",
    "Examples include functions you define in your code for custom tasks.\n",
    "Example:"
   ]
  },
  {
   "cell_type": "code",
   "execution_count": 2,
   "id": "6c9863bf-ffa0-464d-963d-f541c407a8e6",
   "metadata": {},
   "outputs": [
    {
     "name": "stdout",
     "output_type": "stream",
     "text": [
      "Hello, Alice!\n"
     ]
    }
   ],
   "source": [
    "# Defining a user-defined function\n",
    "def greet(name):\n",
    "    return \"Hello, \" + name + \"!\"\n",
    "\n",
    "# Using the user-defined function\n",
    "result = greet(\"Alice\")\n",
    "print(result)"
   ]
  },
  {
   "cell_type": "markdown",
   "id": "051507bf-94dc-4552-a6a3-da5e6233c511",
   "metadata": {},
   "source": [
    "Question2. How can you pass arguments to a function in Python? Explain the difference between positional\n",
    "arguments and keyword arguments."
   ]
  },
  {
   "cell_type": "markdown",
   "id": "010af109-8fd7-4c03-8e46-fbfa1faee19c",
   "metadata": {},
   "source": [
    "Answer: Positional Arguments:\n",
    "\n",
    "Positional arguments are passed to a function based on their position or order.\n",
    "The function expects arguments in a specific order, and the values you pass are matched to the function's parameters based on their positions.\n",
    "Example:"
   ]
  },
  {
   "cell_type": "code",
   "execution_count": 3,
   "id": "d3aca10c-570f-4809-a750-eae5ce3e5f0e",
   "metadata": {},
   "outputs": [],
   "source": [
    "def add (x,y):\n",
    "    return x + y\n",
    "\n",
    "result = add(3,5) # 3 is assigned to x, and 5 is assigned to y"
   ]
  },
  {
   "cell_type": "markdown",
   "id": "a90cb7dd-2100-4de3-aef8-cabf2c2463e0",
   "metadata": {},
   "source": [
    "Keyword Arguments:\n",
    "\n",
    "Keyword arguments are passed to a function by explicitly specifying the parameter names along with their values.\n",
    "You can provide the arguments in any order when using keyword arguments.\n",
    "Example:"
   ]
  },
  {
   "cell_type": "code",
   "execution_count": 4,
   "id": "849f3dd8-21ce-46e6-b18b-21b53b604d7f",
   "metadata": {},
   "outputs": [],
   "source": [
    "def greet(name, age):\n",
    "    return f\"Hello, {name}! You are {age} years old.\"\n",
    "\n",
    "result = greet(age=30, name=\"Alice\")  # Arguments are specified using parameter names"
   ]
  },
  {
   "cell_type": "markdown",
   "id": "f4219d31-bf31-4a7f-bad7-c7c3d1eda413",
   "metadata": {},
   "source": [
    "Question3. What is the purpose of the return statement in a function? Can a function have multiple return\n",
    "statements? Explain with an example.\n",
    "\n",
    "Answer: The purpose of the return statement in a function is to specify the value that the function should produce as its result. It allows a function to send a value back to the caller.\r\n",
    "\r\n",
    "Yes, a function can have multiple return statements. However, as soon as a return statement is encountered, the function's execution is terminated, and the specified value is returned to the caller. Subsequent return statements will not be executed.\r\n",
    "\r\n",
    "Here's an example with multiple return statements:"
   ]
  },
  {
   "cell_type": "code",
   "execution_count": 5,
   "id": "082f7c3b-f46a-49ca-be42-f17c2da688bd",
   "metadata": {},
   "outputs": [
    {
     "name": "stdout",
     "output_type": "stream",
     "text": [
      "8\n"
     ]
    }
   ],
   "source": [
    "def find_max(x, y):\n",
    "    if x > y:\n",
    "        return x  # First return statement if x is greater\n",
    "    elif y > x:\n",
    "        return y  # Second return statement if y is greater\n",
    "    else:\n",
    "        return \"Both numbers are equal\"  # Third return statement if x and y are equal\n",
    "\n",
    "result = find_max(5, 8)\n",
    "print(result)  # Outputs: 8\n"
   ]
  },
  {
   "cell_type": "markdown",
   "id": "4bf4d4d2-ca1e-4450-91c2-e69a72cacaec",
   "metadata": {},
   "source": [
    "Question4. What are lambda functions in Python? How are they different from regular functions? Provide an\n",
    "example where a lambda function can be useful.\n",
    "\n",
    "Answer: Lambda functions in Python are anonymous functions created using the lambda keyword. They are different from regular functions (defined using def) because they are concise, one-liner functions with no name.\r\n",
    "\r\n",
    "Example where a lambda function can be useful:"
   ]
  },
  {
   "cell_type": "code",
   "execution_count": 6,
   "id": "d483c495-c3b9-4ed0-a8cc-0f64f5d5477d",
   "metadata": {},
   "outputs": [
    {
     "name": "stdout",
     "output_type": "stream",
     "text": [
      "25\n"
     ]
    }
   ],
   "source": [
    "# Using lambda to create a simple function to square a number\n",
    "square = lambda x: x**2\n",
    "result = square(5)  # result is 25\n",
    "print(result)"
   ]
  },
  {
   "cell_type": "markdown",
   "id": "c8b74cc5-6e7c-4ea0-ae7f-0517ce410b5f",
   "metadata": {},
   "source": [
    "Question5. How does the concept of \"scope\" apply to functions in Python? Explain the difference between local\n",
    "scope and global scope.\n",
    "\n",
    "Answer: In Python, \"scope\" refers to the visibility and accessibility of variables within different parts of your code.\r\n",
    "\r\n",
    "1. Local Scope:\r\n",
    "   - Variables defined inside a function have local scope.\r\n",
    "   - They are only accessible within that function.\r\n",
    "   \r\n",
    "2. Global Scope:\r\n",
    "   - Variables defined outside of any function have global scope.\r\n",
    "   - They can be accessed and modified from anywhere in t\n",
    "   - code.\r\n",
    "   \r",
    "Example:\r\n",
    "\r\n",
    "```python\r\n",
    "x = 10  # Gl\n",
    "bal variable\r\n",
    "\r\n",
    "def my_function():\r\n",
    "    y = 5  # Local variable\r\n",
    "    print(x)  # Access global variable x\r\n",
    "    print(y)  # Access local variable y\r\n",
    "\r\n",
    "my_function()\r\n",
    "print(x)  # Access global variable x outside the function\r\n",
    "# print(y)  # This would result in an error since y is loal to my_function\r\n",
    "```\r\n",
    "\r\n",
    "In this example, `x` has global scope, so it can be accessed both inside and outside `my_function`, while `y` has local scope and is only accessible within the function."
   ]
  },
  {
   "cell_type": "markdown",
   "id": "85f5f696-cf90-4775-b819-e6ed43ce3260",
   "metadata": {},
   "source": [
    "Question6. How can you use the \"return\" statement in a Python function to return multiple values? "
   ]
  },
  {
   "cell_type": "code",
   "execution_count": 7,
   "id": "c0047e8d-ca96-486b-ae89-b96db08c925f",
   "metadata": {},
   "outputs": [
    {
     "name": "stdout",
     "output_type": "stream",
     "text": [
      "(10, 20, 30)\n"
     ]
    }
   ],
   "source": [
    "def return_multiple_values():\n",
    "    x = 10\n",
    "    y = 20\n",
    "    z = 30\n",
    "    return x, y, z  # Returning multiple values as a tuple\n",
    "\n",
    "result = return_multiple_values()\n",
    "print(result)  # Outputs: (10, 20, 30)"
   ]
  },
  {
   "cell_type": "markdown",
   "id": "63dba41d-fe23-4e96-b4db-07d2d134ae11",
   "metadata": {},
   "source": [
    "Question7. What is the difference between the \"pass by value\" and \"pass by reference\" concepts when it\n",
    "comes to function arguments in Python?\n",
    "\n",
    "Answer: In Python, function arguments are \"passed by object reference,\" not by value or by reference. This means that the reference to the object is passed to the function, and changes to mutable objects can affect the original object outside the function. However, reassigning a parameter inside the function does not affect the original variable."
   ]
  },
  {
   "cell_type": "markdown",
   "id": "c200403d-e236-41be-8ded-bfa229b305a1",
   "metadata": {},
   "source": [
    "Question8. Create a function that can intake integer or decimal value and do following operations:\n",
    "1. Logarithmic function (log x)\n",
    "2. Exponential function (exp(x))\r",
    "3.  Power function with base 2 (\r",
    "x\n",
    "4. Square root \r",
    " root"
   ]
  },
  {
   "cell_type": "code",
   "execution_count": 8,
   "id": "33510fa1-4fec-43d4-8a1a-a90b955c90f8",
   "metadata": {},
   "outputs": [],
   "source": [
    "import math"
   ]
  },
  {
   "cell_type": "code",
   "execution_count": 9,
   "id": "abab700f-dfd2-4c8a-a336-1f3a99ef942c",
   "metadata": {},
   "outputs": [
    {
     "name": "stdin",
     "output_type": "stream",
     "text": [
      "Enter the Value:  2.0\n"
     ]
    },
    {
     "name": "stdout",
     "output_type": "stream",
     "text": [
      "The Logarithm of 2.0 is 0.6931471805599453\n"
     ]
    }
   ],
   "source": [
    "# 1. Logarithmic function (log x)\n",
    "\n",
    "def Logarithmic_function(x):\n",
    "    x = float(x)\n",
    "    if x <= 0:\n",
    "        return \"Input must be greater than 0\"\n",
    "    result = math.log(x)\n",
    "    return result\n",
    "\n",
    "# Test The Function\n",
    "value = input(\"Enter the Value: \")\n",
    "log_result = Logarithmic_function(value)\n",
    "print(f\"The Logarithm of {value} is {log_result}\")"
   ]
  },
  {
   "cell_type": "code",
   "execution_count": 10,
   "id": "731e8c8b-129a-46a5-b4fa-f54e10937912",
   "metadata": {},
   "outputs": [
    {
     "name": "stdin",
     "output_type": "stream",
     "text": [
      "Enter the value:  2.0\n"
     ]
    },
    {
     "name": "stdout",
     "output_type": "stream",
     "text": [
      "The Exponential function of 2.0 is 7.38905609893065\n"
     ]
    }
   ],
   "source": [
    "# Exponential function (exp(x))\n",
    "\n",
    "def calculate_exponential(x):\n",
    "    x = float(x)\n",
    "    result = math.exp(x)\n",
    "    return result\n",
    "\n",
    "# Test The function\n",
    "value = input(\"Enter the value: \")\n",
    "exp_result = calculate_exponential(value)\n",
    "print(f\"The Exponential function of {value} is {exp_result}\")"
   ]
  },
  {
   "cell_type": "code",
   "execution_count": 11,
   "id": "33e6c51e-d883-4ee8-ae2f-bdd0934879ba",
   "metadata": {},
   "outputs": [
    {
     "name": "stdin",
     "output_type": "stream",
     "text": [
      "Enter the value:  2.0\n"
     ]
    },
    {
     "name": "stdout",
     "output_type": "stream",
     "text": [
      "2^2.0 is equal to 4.0\n"
     ]
    }
   ],
   "source": [
    "# Power function with base 2 (2x)\n",
    "\n",
    "def power_of_two(x):\n",
    "    try:\n",
    "        result = 2 ** float(x) # Convert x to a float to handle decimals\n",
    "        return result\n",
    "    except ValueError:\n",
    "        return \"Invalid input. Please provide a valid numeric value\"\n",
    "\n",
    "# Test the function:\n",
    "value = input(\"Enter the value: \")# You can provide an integer or decimal value here\n",
    "result = power_of_two(value)\n",
    "print(f\"2^{value} is equal to {result}\")"
   ]
  },
  {
   "cell_type": "code",
   "execution_count": 12,
   "id": "cf08bb0e-b2ff-4e08-ad14-e69bee433d02",
   "metadata": {},
   "outputs": [
    {
     "name": "stdin",
     "output_type": "stream",
     "text": [
      "Enter the value:  2.0\n"
     ]
    },
    {
     "name": "stdout",
     "output_type": "stream",
     "text": [
      "The Square root result of 2.0 is 1.4142135623730951\n"
     ]
    }
   ],
   "source": [
    "# Square root\n",
    "\n",
    "def square_root(x):\n",
    "    x = float(x)\n",
    "    result = math.sqrt(x)\n",
    "    return result\n",
    "\n",
    "# Try the function\n",
    "value = input(\"Enter the value: \")\n",
    "Square_root_result = square_root(value)\n",
    "print(f\"The Square root result of {value} is {Square_root_result}\")"
   ]
  },
  {
   "cell_type": "markdown",
   "id": "603633c1-a4d5-4049-8d2c-e456c4f8e32d",
   "metadata": {},
   "source": [
    "Question9. Create a function that takes a full name as an argument and returns first name and last name."
   ]
  },
  {
   "cell_type": "code",
   "execution_count": 13,
   "id": "b5e4db13-1834-4fed-8acc-b87b4e8f8611",
   "metadata": {},
   "outputs": [
    {
     "name": "stdin",
     "output_type": "stream",
     "text": [
      "Enter your full name:  Aakash Jagat\n"
     ]
    },
    {
     "name": "stdout",
     "output_type": "stream",
     "text": [
      "First Name: Aakash\n",
      "Last Name: Jagat\n"
     ]
    }
   ],
   "source": [
    "def extract_first_last_name(full_name):\n",
    "    # Split the full name into parts using whitespace\n",
    "    parts = full_name.split()\n",
    "\n",
    "    # Check if there are at least two parts (first name and last name)\n",
    "    if len(parts) >= 2:\n",
    "        first_name = parts[0]\n",
    "        last_name = ' '.join(parts[1:])\n",
    "        return first_name, last_name\n",
    "    else:\n",
    "        return \"Invalid input. Please provide both first and last names.\"\n",
    "\n",
    "# Example Usage:\n",
    "input_name = input(\"Enter your full name: \")\n",
    "first, last = extract_first_last_name(input_name)\n",
    "print(\"First Name:\", first)\n",
    "print(\"Last Name:\", last)"
   ]
  }
 ],
 "metadata": {
  "kernelspec": {
   "display_name": "Python 3 (ipykernel)",
   "language": "python",
   "name": "python3"
  },
  "language_info": {
   "codemirror_mode": {
    "name": "ipython",
    "version": 3
   },
   "file_extension": ".py",
   "mimetype": "text/x-python",
   "name": "python",
   "nbconvert_exporter": "python",
   "pygments_lexer": "ipython3",
   "version": "3.11.3"
  }
 },
 "nbformat": 4,
 "nbformat_minor": 5
}
