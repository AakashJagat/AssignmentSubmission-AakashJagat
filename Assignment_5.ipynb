{
 "cells": [
  {
   "cell_type": "markdown",
   "id": "1085453e-03cb-4e6f-a7e6-84f06361cf82",
   "metadata": {},
   "source": [
    "Question1. What does an empty dictionary&#39;s code look like?\n",
    "\n",
    "Answer: An empty dictionary in Python is represented by a pair of curly braces with nothing inside:\n",
    "\n",
    "```python\n",
    "empty_dict = {}\n",
    "```\n",
    "\n",
    "This creates an empty dictionary named `empty_dict`."
   ]
  },
  {
   "cell_type": "markdown",
   "id": "5a057a84-659d-4bca-986f-4b871455ddcc",
   "metadata": {},
   "source": [
    "Question2. What is the value of a dictionary value with the key &#39;foo&#39; and the value 42?\n",
    "\n",
    "Answer: The value of a dictionary with the key `'foo'` and the value `42` would look like this:\r\n",
    "\r\n",
    "```python\r\n",
    "my_dict = {'foo': 42}\r\n",
    "```\r\n",
    "\r\n",
    "In this dictionary, the key `'foo'` maps to the value `42`."
   ]
  },
  {
   "cell_type": "markdown",
   "id": "c3682cb4-7639-495d-b704-fc549c39de36",
   "metadata": {},
   "source": [
    "Question3. What is the most significant distinction between a dictionary and a list?\n",
    "\n",
    "Answer: The most significant distinction between a dictionary and a list in Python is how they store and access data:\r\n",
    "\r\n",
    "- **List:** A list is an ordered collection of values, and each value is accessed by its index (position) in the list. Lists are indexed by integers starting from 0, and you access elements by their position in the list.\r\n",
    "\r\n",
    "- **Dictionary:** A dictionary is an unordered collection of key-value pairs. Instead of using indices, you access values in a dictionary by their associated keys. Keys are unique within a dictionary and allow you to retrieve values efficiently.\r\n",
    "\r\n",
    "In summary, lists use integer indices to access ordered values, while dictionaries use unique keys to access unordered key-value pairs."
   ]
  },
  {
   "cell_type": "markdown",
   "id": "bdd2ae7f-2274-4294-981c-dc168e778a4f",
   "metadata": {},
   "source": [
    "Question4. What happens if you try to access spam[&#39;foo&#39;] if spam is {&#39;bar&#39;: 100}?\n",
    "\n",
    "Answer: If you try to access `spam['foo']` and `spam` is `{ 'bar': 100 }`, you will get a KeyError because there is no key `'foo'` in the dictionary `spam`. In Python, attempting to access a dictionary key that does not exist results in a KeyError unless you handle it with exception handling."
   ]
  },
  {
   "cell_type": "markdown",
   "id": "5cd64f99-d800-4be2-80b4-831611f7f989",
   "metadata": {},
   "source": [
    "Question5. If a dictionary is stored in spam, what is the difference between the expressions &#39;cat&#39; in spam and\r\n",
    "&#39;cat&#39; in spam.keys()\n",
    "\n",
    "Answer: In a dictionary stored in `spam`, there is a difference between the expressions `'cat' in spam` and `'cat' in spam.keys()`:\r\n",
    "\r\n",
    "- `'cat' in spam`: This expression checks if the string `'cat'` is a key in the dictionary `spam`. It returns `True` if `'cat'` is a key and `False` otherwise.\r\n",
    "\r\n",
    "- `'cat' in spam.keys()`: This expression checks if the string `'cat'` is in the list of keys obtained from the `keys()` method of the dictionary `spam`. It also returns `True` if `'cat'` is a key and `False` otherwise.\r\n",
    "\r\n",
    "In practical terms, both expressions are equivalent, and you can use either to check for the presence of a key in a dictionary. However, using `'cat' in spam` is more concise and commonly used.?"
   ]
  },
  {
   "cell_type": "markdown",
   "id": "54de5042-04bf-48a8-8e09-31c22998e2e9",
   "metadata": {},
   "source": [
    "Question6. If a dictionary is stored in spam, what is the difference between the expressions &#39;cat&#39; in spam and\r\n",
    "&#39;cat&#39; in spam.values(\n",
    "\n",
    "Answer: In a dictionary stored in `spam`, there is a difference between the expressions `'cat' in spam` and `'cat' in spam.values()`:\r\n",
    "\r\n",
    "- `'cat' in spam`: This expression checks if the string `'cat'` is a key in the dictionary `spam`. It returns `True` if `'cat'` is a key and `False` otherwise.\r\n",
    "\r\n",
    "- `'cat' in spam.values()`: This expression checks if the string `'cat'` is a value in the dictionary `spam`. It returns `True` if `'cat'` is a value and `False` otherwise.\r\n",
    "\r\n",
    "In summary, the first expression checks for the presence of `'cat'` as a key in the dictionary, while the second expression checks for the presence of `'cat'` as a value in the dictionary. )?"
   ]
  },
  {
   "cell_type": "markdown",
   "id": "994ec12c-67f4-4e33-93cd-d3ecf5b6374d",
   "metadata": {},
   "source": [
    "Question7.7. What is a shortcut for the following code?\r\n",
    "if &#39;color&#39; not in spam:\r\n",
    "spam[&#39;color&#39;] = &#39;black&#39;\n",
    "\n",
    "AnswerA shortcut for the given code can be achieved using the `setdefault()` method:\r\n",
    "\r\n",
    "```python\r\n",
    "spam.setdefault('color', 'black')\r\n",
    "```\r\n",
    "\r\n",
    "This line of code checks if the key `'color'` is not in the `spam` dictionary. If it's not present, it adds the key `'color'` with the value `'black'`. If the key is already in the dictionary, it doesn't modify the existing value.: "
   ]
  },
  {
   "cell_type": "markdown",
   "id": "eee13c91-5416-4b41-aa6f-2808af537854",
   "metadata": {},
   "source": [
    "Question8. How do you &quot;pretty print&quot; dictionary values using which module and function?\n",
    "\n",
    "Answer: To \"pretty print\" dictionary values in Python, you can use the `pprint` module (Pretty Printer). Specifically, you can use the `pprint()` function from the `pprint` module. Here's how you can do it:\r\n",
    "\r\n",
    "```python\r\n",
    "import pprint\r\n",
    "\r\n",
    "my_dict = {'name': 'Alice', 'age': 30, 'city': 'New York'}\r\n",
    "\r\n",
    "# Pretty print the dictionary\r\n",
    "pprint.pprint(my_dict)\r\n",
    "```\r\n",
    "\r\n",
    "The `pprint.pprint()` function formats and prints the dictionary in a more human-readable and visually structured way, making it easier to read large or nested dictionaries."
   ]
  }
 ],
 "metadata": {
  "kernelspec": {
   "display_name": "Python 3 (ipykernel)",
   "language": "python",
   "name": "python3"
  },
  "language_info": {
   "codemirror_mode": {
    "name": "ipython",
    "version": 3
   },
   "file_extension": ".py",
   "mimetype": "text/x-python",
   "name": "python",
   "nbconvert_exporter": "python",
   "pygments_lexer": "ipython3",
   "version": "3.11.3"
  }
 },
 "nbformat": 4,
 "nbformat_minor": 5
}
