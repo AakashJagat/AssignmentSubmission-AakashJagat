{
 "cells": [
  {
   "cell_type": "markdown",
   "id": "9aadf9fe-c383-4ef9-b4b9-1bb6a1c5a048",
   "metadata": {},
   "source": [
    "Question1: Why are functions advantageous to have in your programs?\n",
    "\n",
    "Answer: Functions are advantageous in programs because they:\r\n",
    "- Promote code reusability.\r\n",
    "- Simplify complex tasks by breaking them into manageable parts.\r\n",
    "- Enhance code organization and readability.\r\n",
    "- Enable easier debugging and maintenance.\r\n",
    "- Facilitate collaboration by dividing work among team members.\r\n",
    "- Promote a modular and structured approach to programming."
   ]
  },
  {
   "cell_type": "markdown",
   "id": "4f0c2ee0-738f-4975-be41-c54ff307770b",
   "metadata": {},
   "source": [
    "Question2: When does the code in a function run: when it&#39;s specified or when it&#39;s called?\n",
    "\n",
    "Answer: The code in a function runs when the function is called, not when it's specified or defined. Functions are like reusable blocks of code that execute their instructions when invoked or called from other parts of the program."
   ]
  },
  {
   "cell_type": "markdown",
   "id": "2eab73ca-4d9f-4927-ace7-3847e1f39be4",
   "metadata": {},
   "source": [
    "Question3: What statement creates a function?\n",
    "\n",
    "Answer: In  Python programming language, the statement that creates a function is typically called a \"function definition\" or \"function declaration.\" In Python, we create a function using the 'def statement'."
   ]
  },
  {
   "cell_type": "markdown",
   "id": "6ae68d25-0831-46e7-8a6b-6b6a55d9a459",
   "metadata": {},
   "source": [
    "Question4: What is the difference between a function and a function call?\n",
    "\n",
    "Answer: The main difference between a function and a function call is their purpose and usage:\r\n",
    "\r\n",
    "- **Function:** A function is a reusable block of code that performs a specific task or set of tasks. It defines a series of instructions that can be executed when the function is called.\r\n",
    "\r\n",
    "- **Function Call:** A function call is the actual execution of a function in your code. It invokes the function and executes the instructions defined within it. When you call a function, you provide any required arguments, and the function processes them and may return a result.\r\n",
    "\r\n",
    "In summary, a function is a defined piece of code, while a function call is the action of executing that code by invoking the function with specific arguments (if needed)."
   ]
  },
  {
   "cell_type": "markdown",
   "id": "ff8a4a73-6cdd-4422-9c98-207e0463f4bf",
   "metadata": {},
   "source": [
    "Question5: How many global scopes are there in a Python program? How many local scopes?\n",
    "\n",
    "Answer: In a Python program, there is one global scope and potentially multiple local scopes.\r\n",
    "\r\n",
    "- **Global Scope:** There is only one global scope in a Python program, which includes variables and functions defined at the top level of the program or module. This scope is accessible throughout the entire program.\r\n",
    "\r\n",
    "- **Local Scopes:** Local scopes are created within functions and exist only while the function is being executed. Each time you call a function, a new local scope is created. If a variable is defined within a function, it is typically considered local to that function and not accessible outside of it. However, global variables can also be accessed from within functions.\r\n",
    "\r\n",
    "So, the number of local scopes can vary depending on how many functions are called during the execution of your program, while there is always one global scope."
   ]
  },
  {
   "cell_type": "markdown",
   "id": "507d4fb3-3c50-4633-b690-825557af59b3",
   "metadata": {},
   "source": [
    "Question6: What happens to variables in a local scope when the function call returns?\n",
    "\n",
    "Answer: When a function call returns in Python, the variables that were defined within the local scope of that function cease to exist. These local variables are \"destroyed\" or \"garbage-collected,\" and their values are no longer accessible once the function's execution is complete. This means that variables defined inside a function are typically temporary and only exist for the duration of the function call."
   ]
  },
  {
   "cell_type": "markdown",
   "id": "d089a33a-9e41-4c4c-b2c7-5d2016e1f5e0",
   "metadata": {},
   "source": [
    "Question7: What is the concept of a return value? Is it possible to have a return value in an expression?\n",
    "\n",
    "Answer: The concept of a return value is that it is the value a function gives back when it completes its execution. Yes, it is possible to have a return value in an expression, which allows you to use the result of a function call within other expressions or assignments.\n"
   ]
  },
  {
   "cell_type": "markdown",
   "id": "937994de-1525-4dbf-8053-82712e0c3b38",
   "metadata": {},
   "source": [
    "Question8: If a function does not have a return statement, what is the return value of a call to that function?\n",
    "\n",
    "Answer: If a function in Python does not have a `return` statement, the return value of a call to that function is `None`. In Python, `None` represents the absence of a value or a null value, and it is automatically returned when a function lacks an explicit `return` statement or when the `return` statement is without an expression.\n",
    "\n"
   ]
  },
  {
   "cell_type": "markdown",
   "id": "8b2dec21-57ab-44bf-b6ac-f52ac0a5534f",
   "metadata": {},
   "source": [
    "Question9: How do you make a function variable refer to the global variable?\n",
    "\n",
    "Answer: To make a function variable refer to the global variable with the same name, use the `global` keyword before the variable name within the function. For example:\n",
    "\n",
    "```python\n",
    "global_variable = 42\n",
    "\n",
    "def my_function():\n",
    "    global global_variable\n",
    "    global_variable = 10\n",
    "\n",
    "my_function()\n",
    "print(global_variable)  # This will print 10\n",
    "```\n",
    "\n",
    "The `global` keyword informs Python that you want to modify the global variable inside the function rather than creating a new local variable with the same name."
   ]
  },
  {
   "cell_type": "markdown",
   "id": "a60f7d0f-cb9b-40c0-a3f7-47d2b31b7dd0",
   "metadata": {},
   "source": [
    "Question10: What is the data type of None?\n",
    "\n",
    "Answer: The data type of `None` in Python is called \"NoneType.\" It represents the absence of a value or a null value and is often used to indicate that a variable or function doesn't return a meaningful result."
   ]
  },
  {
   "cell_type": "markdown",
   "id": "097fc165-7752-40af-b806-e1275289758a",
   "metadata": {},
   "source": [
    "Question11: What does the sentence import areallyourpetsnamederic do?\n",
    "\n",
    "Answer: The sentence `import areallyourpetsnamederic` attempts to import a Python module or package named \"areallyourpetsnamederic.\" If such a module or package exists and is accessible from the current Python environment, it will be imported, and you can use its functions, classes, or variables in your program. If there is no module by that name or it's not in a location Python can access, it will result in an ImportError."
   ]
  },
  {
   "cell_type": "markdown",
   "id": "d4954f5f-ad9e-4c3f-ba01-ee4ef72e2a5f",
   "metadata": {},
   "source": [
    "Question12: If you had a bacon() feature in a spam module, what would you call it after importing spam?\n",
    "\n",
    "Answer: If you have a `bacon()` function within a module named \"spam\" and you want to call it after importing the \"spam\" module, you would call it using the following syntax:\r\n",
    "\r\n",
    "```python\r\n",
    "import spam\r\n",
    "\r\n",
    "spam.bacon()\r\n",
    "```\r\n",
    "\r\n",
    "This assumes that the \"bacon()\" function is defined within the \"spam\" module."
   ]
  },
  {
   "cell_type": "markdown",
   "id": "55a78a9c-755e-4794-8de6-e75547af9a12",
   "metadata": {},
   "source": [
    "Question13: What can you do to save a programme from crashing if it encounters an error?\n",
    "\n",
    "Answer: To prevent a program from crashing when it encounters an error, you can use exception handling techniques, such as `try-except blocks` to gracefully handle and manage errors without terminating the program."
   ]
  },
  {
   "cell_type": "markdown",
   "id": "ecc934dd-175a-47a2-979b-d73c0df34df3",
   "metadata": {},
   "source": [
    "Question14: What is the purpose of the try clause? What is the purpose of the except clause?\n",
    "\n",
    "Answer: \n",
    "- **Purpose of the try clause:** The purpose of the `try` clause is to enclose a block of code that might potentially raise an exception. It allows you to monitor for exceptions without causing the program to terminate.\r\n",
    "\r\n",
    "- **Purpose of the except clause:** The purpose of the `except` clause is to define a block of code that gets executed if an exception occurs within the corresponding `try` block. It handles and manages exceptions, allowing you to take specific actions in response to different types of errors."
   ]
  }
 ],
 "metadata": {
  "kernelspec": {
   "display_name": "Python 3 (ipykernel)",
   "language": "python",
   "name": "python3"
  },
  "language_info": {
   "codemirror_mode": {
    "name": "ipython",
    "version": 3
   },
   "file_extension": ".py",
   "mimetype": "text/x-python",
   "name": "python",
   "nbconvert_exporter": "python",
   "pygments_lexer": "ipython3",
   "version": "3.11.3"
  }
 },
 "nbformat": 4,
 "nbformat_minor": 5
}
