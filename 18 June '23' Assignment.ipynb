{
 "cells": [
  {
   "cell_type": "markdown",
   "id": "cf22e785-d9ed-4851-b17f-ed4a8a9e99ae",
   "metadata": {},
   "source": [
    "Question1. What is the role of the 'else' block in a try-except statement? Provide an example\n",
    "scenario where it would be useful.\n",
    "\n",
    "Answer: The else block in a try-except statement is used to specify a block of code that should be executed if no exceptions are raised in the corresponding try block. Its role is to provide a clean and readable way to separate the code that may raise exceptions from the code that should run only if no exceptions occur.\r\n",
    "\r\n",
    "Here's an example scenario where the else block would be usefumber"
   ]
  },
  {
   "cell_type": "markdown",
   "id": "f7f14a6c-34ff-4eb7-8c59-ee624cb6fe05",
   "metadata": {},
   "source": [
    "##### Scenario: Calculating the square root of a positive number\n",
    "\n",
    "import math\n",
    "\n",
    "try:\n",
    "    num = float(input(\"Enter a positive number: \"))\n",
    "    if num < 0:\n",
    "        raise ValueError(\"Negative numbers are not allowed.\")\n",
    "    result = math.sqrt(num)\n",
    "except ValueError as e:\n",
    "    print(f\"Error: {e}\")\n",
    "except Exception as e:\n",
    "    print(f\"An unexpected error occured: {e}\")\n",
    "else: \n",
    "    print(f\"The square root of {num} is {result}\")"
   ]
  },
  {
   "cell_type": "markdown",
   "id": "82b15fa8-309a-4009-8e19-dba868d531a3",
   "metadata": {},
   "source": [
    "Question2. Can a try-except block be nested inside another try-except block? Explain with an\n",
    "example.\n",
    "\n",
    "Answer: Yes, a try-except block can be nested inside another try-except block in Python. This nesting allows you to handle exceptions at different levels of granularity within your code. "
   ]
  },
  {
   "cell_type": "code",
   "execution_count": null,
   "id": "ca55da95-5461-49c6-8d26-f4a581a8329b",
   "metadata": {},
   "outputs": [],
   "source": [
    "# Here's an example to illustrate this:\n",
    "try:\n",
    "    # Outer try block\n",
    "    num1 = int(input(\"Enter a number: \"))\n",
    "    num2 = int(input(\"Enter another number: \"))\n",
    "    \n",
    "    try:\n",
    "        # Inner try block\n",
    "        result = num1 / num2\n",
    "    except ZeroDivisionError:\n",
    "        print(\"Inner Error: Division by zero is not allowed.\")\n",
    "    \n",
    "except ValueError:\n",
    "    print(\"Outer Error: Invalid input. Please enter valid numbers.\")\n",
    "except Exception as e:\n",
    "    print(f\"Outer Error: An error occurred: {e}\")\n",
    "else:\n",
    "    print(f\"The result is: {result}\")\n",
    "finally:\n",
    "    print(\"Execution completed.\")\n"
   ]
  },
  {
   "cell_type": "markdown",
   "id": "0a7bb441-5d50-4fe8-95d5-2615dff8babb",
   "metadata": {},
   "source": [
    "Question3. How can you create a custom exception class in Python? Provide an example that\n",
    "demonstrates its usage.\n",
    "\n",
    "Answer: To create a custom exception class in Python, you can define a new class that inherits from the built-in Exception class or one of its subclasses. You can add custom attributes or methods to your custom exception class to provide additional information or behavior specific to your application."
   ]
  },
  {
   "cell_type": "code",
   "execution_count": null,
   "id": "55959e20-488e-48fb-a239-48e97453ca66",
   "metadata": {},
   "outputs": [],
   "source": [
    "# Here's an example:\n",
    "\n",
    "class CustomError(Exception):\n",
    "    def __init__(self, message):\n",
    "        self.message = message\n",
    "        super().__init__(self.message)\n",
    "\n",
    "try:\n",
    "    age = int(input(\"Enter your age: \"))\n",
    "    if age < 0:\n",
    "        raise CustomError(\"Age cannot be negative.\")\n",
    "except CustomError as e:\n",
    "    print(f\"Custom Error: {e}\")\n",
    "except ValueError:\n",
    "    print(f\"Invalid Error. Please enter a valid age.\")\n",
    "else:\n",
    "    print(f\"Your age is: {age}\")"
   ]
  },
  {
   "cell_type": "markdown",
   "id": "17060cfd-0e2f-43d9-8422-ec62e1297556",
   "metadata": {},
   "source": [
    "Question4. What are some common exceptions that are built-in to Python?\n",
    "\n",
    "Answer: Here are some common built-in exceptions in Python:\r\n",
    "\r\n",
    "1. `SyntaxError`: Raised when there is a syntax error in the code.\r\n",
    "2. `IndentationError`: Raised when there is an indentation error, often due to inconsistent use of tabs and spaces.\r\n",
    "3. `NameError`: Raised when a variable or name is not defined.\r\n",
    "4. `TypeError`: Raised when an operation is performed on an inappropriate data type.\r\n",
    "5. `ValueError`: Raised when a function receives an argument of the correct data type but with an inappropriate value.\r\n",
    "6. `ZeroDivisionError`: Raised when division or modulo operation is performed with a divisor of zero.\r\n",
    "7. `FileNotFoundError`: Raised when attempting to access a file that doesn't exist.\r\n",
    "8. `KeyError`: Raised when trying to access a non-existent dictionary key.\r\n",
    "9. `IndexError`: Raised when trying to access an index that is out of range in a sequence (e.g., list or string).\r\n",
    "10. `AttributeError`: Raised when attempting to access a non-existent attribute or method of an object.\r\n",
    "\r\n",
    "These are just a few of the common built-in exceptions in Python. Python provides a wide range of built-in exceptions to handle various error scenarios in your code."
   ]
  },
  {
   "cell_type": "markdown",
   "id": "9765ac0a-9906-41cd-9298-85bf946f1cf3",
   "metadata": {},
   "source": [
    "Question5. What is logging in Python, and why is it important in software development?\n",
    "\n",
    "Answer: Logging in Python refers to the practice of recording information, messages, or events that occur during the execution of a program. It is essential in software development for several reasons:\r\n",
    "\r\n",
    "1. **Debugging**: Logging provides a systematic way to track the flow of a program, helping developers identify and locate issues or bugs in the code. When an error occurs, log messages can reveal the state of the program at that point, making it easier to diagnose and fix problems.\r\n",
    "\r\n",
    "2. **Error Handling**: Logs can capture details about exceptions and errors that occur during program execution. This information is valuable for understanding the root cause of errors and can aid in developing effective error-handling strategies.\r\n",
    "\r\n",
    "3. **Monitoring and Analysis**: In production environments, logs serve as a valuable source of information for monitoring the health and performance of an application. Developers and administrators can analyze log data to identify performance bottlenecks, security issues, and trends.\r\n",
    "\r\n",
    "4. **Auditing and Compliance**: Logging is crucial for auditing purposes, especially in applications that handle sensitive data. It provides a record of user activities and system events, which may be required for compliance with regulations and security policies.\r\n",
    "\r\n",
    "5. **Troubleshooting and Maintenance**: When an issue arises in a deployed application, logs can provide insights into what happened leading up to the problem. This information is invaluable for maintaining and improving software over time.\r\n",
    "\r\n",
    "6. **Documentation**: Logs can serve as a form of documentation for a program's behavior. They help developers understand how the program operates and can aid in onboarding new team members.\r\n",
    "\r\n",
    "Python provides a built-in logging module that allows developers to implement logging in their applications easily. It offers various log levels (e.g., DEBUG, INFO, WARNING, ERROR, CRITICAL) to categorize log messages based on their importance. Developers can configure where and how log messages are stored, whether in files, the console, or remote servers.\r\n",
    "\r\n",
    "In summary, logging in Python is crucial for understanding, debugging, monitoring, and maintaining software applications. It aids in diagnosing issues, ensuring security and compliance, and providing a history of events, making it an indispensable tool in software development and operations."
   ]
  },
  {
   "cell_type": "markdown",
   "id": "f68a5d32-046f-4d0e-81e4-cbd591b1e26a",
   "metadata": {},
   "source": [
    "Question6. Explain the purpose of log levels in Python logging and provide examples of when\n",
    "each log level would be appropriate.\n",
    "\n",
    "Answer: Log levels in Python logging serve to categorize log messages based on their importance or severity. Each log level corresponds to a specific numeric value, and you can configure the logger to display or record messages of a certain level or higher. Here are some common log levels and their purposes:\r\n",
    "\r\n",
    "DEBUG (10): Used for detailed information that is typically only useful for debugging and diagnosing issues during development. Example: Printing variable values for debugging.\r\n",
    "\r\n",
    "INFO (20): Used for general information about the program's execution, such as startup messages or configuration details. Example: Logging when the application starts.\r\n",
    "\r\n",
    "WARNING (30): Indicates potential issues or situations that might require attention but do not necessarily disrupt the program's operation. Example: Logging a deprecated function usage.\r\n",
    "\r\n",
    "ERROR (40): Indicates errors or exceptions that should be addressed. These messages typically signify issues that prevent part of the application from functioning correctly. Example: Logging an unexpected database connection failure.\r\n",
    "\r\n",
    "CRITICAL (50): Indicates severe errors or conditions that can lead to a program's termination or major issues. Example: Logging a critical system component failure."
   ]
  },
  {
   "cell_type": "code",
   "execution_count": null,
   "id": "427aef2a-6984-43d4-baa9-f16bce14f136",
   "metadata": {},
   "outputs": [],
   "source": [
    "# Here's an example of setting the log level in Python:\n",
    "\n",
    "import logging\n",
    "\n",
    "# Configure the logger\n",
    "logging.basicConfig(level=logging.INFO)  # Set the log level to INFO\n",
    "\n",
    "# Log messages at various levels\n",
    "logging.debug(\"Debug message\")  # Won't be displayed at the INFO level\n",
    "logging.info(\"Informational message\")  # Will be displayed at the INFO level\n",
    "logging.warning(\"Warning message\")  # Will be displayed at the WARNING level\n",
    "logging.error(\"Error message\")  # Will be displayed at the ERROR level\n",
    "logging.critical(\"Critical message\")  # Will be displayed at the CRITICAL level"
   ]
  },
  {
   "cell_type": "markdown",
   "id": "f9012880-e081-4600-adfb-0e0353594fcf",
   "metadata": {},
   "source": [
    "Question7. What are log formatters in Python logging, and how can you customise the log\n",
    "message format using formatters?\n",
    "\n",
    "Answer: Log formatters in Python logging are used to specify the format of log messages. They allow you to customize how log messages appear in the log output. You can customize the log message format using formatters by:\n",
    "\n",
    "Creating a formatter object using the logging.Formatter class.\n",
    "Configuring the logger to use the formatter with the setFormatter method.\n",
    "Specifying a format string that defines the structure of the log message, including placeholders for various log record attributes (e.g., time, level, message)."
   ]
  },
  {
   "cell_type": "code",
   "execution_count": null,
   "id": "e8db05af-c03b-4698-bd32-57c6f9eb368b",
   "metadata": {},
   "outputs": [],
   "source": [
    "# Here's a brief example: \n",
    "\n",
    "import logging\n",
    "\n",
    "# Create a formatter with a custom format\n",
    "formatter = logging.Formatter('%(asctime)s - %(name)s - %(levelname)s - %(message)s')\n",
    "\n",
    "# Create a logger\n",
    "logger = logging.getLogger('my_logger')\n",
    "\n",
    "# Configure the logger to use the formatter\n",
    "handler = logging.StreamHandler()\n",
    "handler.setFormatter(formatter)\n",
    "logger.addHandler(handler)\n",
    "\n",
    "# Log a message\n",
    "logger.warning(\"This is a custom log message.\")"
   ]
  },
  {
   "cell_type": "markdown",
   "id": "bbba2df8-3fad-4f87-8f73-46fece0fd307",
   "metadata": {},
   "source": [
    "Question8. How can you set up logging to capture log messages from multiple modules or\n",
    "classes in a Python application?\n",
    "\n",
    "Answer: To capture log messages from multiple modules or classes in a Python application:\r\n",
    "\r\n",
    "1. Create a logger instance in each module or class using `logging.getLogger(__name__)` where `__name__` is the module or class name.\r\n",
    "\r\n",
    "2. Configure the logger to use the same handler and formatter across all modules or classes.\r\n",
    "\r\n",
    "This setup allows log messages from different parts of your application to be collected and managed together."
   ]
  },
  {
   "cell_type": "markdown",
   "id": "4c2744dd-f293-4636-93d9-278b6a2b1488",
   "metadata": {},
   "source": [
    "Question9. What is the difference between the logging and print statements in Python? When\n",
    "should you use logging over print statements in a real-world application?\n",
    "\n",
    "Answer: \n",
    "- **Difference**: Logging is a dedicated mechanism for recording messages, including log levels, timestamps, and customizable formatting. Print statements are for simple output to the console, lacking these features.\r\n",
    "\r\n",
    "- **When to Use Logging**: Use logging over print statements in real-world applications for structured and persistent logging of program behavior, especially in production environments. Logging provides better control, filtering, and error handling compared to print statements."
   ]
  },
  {
   "cell_type": "markdown",
   "id": "4c67727e-750a-4bf9-9ce6-22b5932671f7",
   "metadata": {},
   "source": [
    "Question10. Write a Python program that logs a message to a file named \"app.log\" with the\n",
    "following requirements:\n",
    "- The log message should be \"Hello, World!\"\n",
    "- The log level should be set to \"INFO.\"\n",
    "- The log file should append new log entries without overwriting previous ones."
   ]
  },
  {
   "cell_type": "code",
   "execution_count": null,
   "id": "e871ddc5-e022-4079-a4af-b7866bc7dbdf",
   "metadata": {},
   "outputs": [],
   "source": [
    "import logging\n",
    "\n",
    "# Configure logging to write to a file in append mode\n",
    "logging.basicConfig(filename='app.log', level=logging.INFO, filemode='a')\n",
    "\n",
    "# Log the message with INFO level\n",
    "logging.info(\"Hello, World!\")\n",
    "\n",
    "# Close the log file\n",
    "logging.shutdown()"
   ]
  },
  {
   "cell_type": "markdown",
   "id": "5ef26414-a163-44df-9e9f-57cb01d1de1c",
   "metadata": {},
   "source": [
    "Question11. Create a Python program that logs an error message to the console and a file named\n",
    "\"errors.log\" if an exception occurs during the program's execution. The error\n",
    "message should include the exception type and a timestamp."
   ]
  },
  {
   "cell_type": "code",
   "execution_count": null,
   "id": "d47aa66c-bbff-4fee-addc-eb3664ec6c09",
   "metadata": {},
   "outputs": [],
   "source": [
    "import logging\n",
    "import datetime\n",
    "\n",
    "# Configure logging to write errors to both console and \"errors.log\" file\n",
    "logging.basicConfig(level=logging.ERROR,\n",
    "                    format='%(asctime)s - %(levelname)s - %(message)s',\n",
    "                    handlers=[\n",
    "                        logging.StreamHandler(),  # Log to console\n",
    "                        logging.FileHandler('errors.log')  # Log to file\n",
    "                    ])\n",
    "\n",
    "try:\n",
    "    # Simulate an exception\n",
    "    result = 10 / 0\n",
    "except Exception as e:\n",
    "    # Log the exception with timestamp\n",
    "    logging.error(f\"Exception occurred: {e}\")\n",
    "\n",
    "# Close the log file\n",
    "logging.shutdown()"
   ]
  }
 ],
 "metadata": {
  "kernelspec": {
   "display_name": "Python 3 (ipykernel)",
   "language": "python",
   "name": "python3"
  },
  "language_info": {
   "codemirror_mode": {
    "name": "ipython",
    "version": 3
   },
   "file_extension": ".py",
   "mimetype": "text/x-python",
   "name": "python",
   "nbconvert_exporter": "python",
   "pygments_lexer": "ipython3",
   "version": "3.11.3"
  }
 },
 "nbformat": 4,
 "nbformat_minor": 5
}
