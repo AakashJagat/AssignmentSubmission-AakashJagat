{
 "cells": [
  {
   "cell_type": "markdown",
   "id": "d19ce657-e405-400d-a64a-beceb1ef4b47",
   "metadata": {},
   "source": [
    "## Question1. Explain what inheritance is in object-oriented programming and why it is used.\n",
    "\n",
    "## Answer: \n",
    "Inheritance in object-oriented programming is a fundamental concept that allows a new class to inherit properties and behaviors (attributes and methods) from an existing class, facilitating code reuse and creating a hierarchy of classes."
   ]
  },
  {
   "cell_type": "code",
   "execution_count": 1,
   "id": "f449dc2e-5fab-442a-95bc-d1f6cdbeae3a",
   "metadata": {},
   "outputs": [
    {
     "name": "stdout",
     "output_type": "stream",
     "text": [
      "A dog says: Woof!\n",
      "A cat says: Meow!\n"
     ]
    }
   ],
   "source": [
    "# Parent class (or Base class)\n",
    "class Animal:\n",
    "    def __init__(self, species):\n",
    "        self.species = species\n",
    "\n",
    "    def make_sound(self):\n",
    "        pass  # To be overridden by child classes\n",
    "\n",
    "# Child class (or Derived class) inheriting from Animal\n",
    "class Dog(Animal):\n",
    "    def make_sound(self):\n",
    "        return \"Woof!\"\n",
    "\n",
    "class Cat(Animal):\n",
    "    def make_sound(self):\n",
    "        return \"Meow!\"\n",
    "\n",
    "# Creating instances of the child classes\n",
    "dog = Dog(\"Canine\")\n",
    "cat = Cat(\"Feline\")\n",
    "\n",
    "# Accessing inherited attributes and methods\n",
    "print(f\"A dog says: {dog.make_sound()}\")  # Inherits from Animal class\n",
    "print(f\"A cat says: {cat.make_sound()}\")  # Inherits from Animal class\n"
   ]
  },
  {
   "cell_type": "markdown",
   "id": "091022c3-3028-4fe9-8175-329742588f53",
   "metadata": {},
   "source": [
    "Explanation:\n",
    "\n",
    "- The Animal class acts as the base or parent class with a common attribute species and a method make_sound, which is designed to be overridden by child classes.\n",
    "- The Dog and Cat classes are child classes that inherit from the Animal class. They specialize the make_sound method based on their respective sound.\n",
    "- When instances of Dog and Cat classes are created, they inherit the attributes and behaviors (in this case, the make_sound method) from the Animal class.\n",
    "- This allows for reusing common behavior defined in the parent class while enabling specialized behavior in the child classes."
   ]
  },
  {
   "cell_type": "markdown",
   "id": "46abda6c-e880-4b49-bed4-d881b2890f3a",
   "metadata": {},
   "source": [
    "## Question2. Discuss the concept of single inheritance and multiple inheritance, highlighting their\n",
    "differences and advantages.\n",
    "\n",
    "##  Answer:\n",
    "\n",
    "Certainly! In Python, inheritance can be of two main types: single inheritance and multiple inheritance.\r\n",
    "\r\n",
    "### Single Inheritance:\r\n",
    "- Single inheritance refers to the scenario where a class inherits from only one parent class.\r\n",
    "- It forms a linear hierarchy where a derived class (child) inherits from a single base class (parent).\r\n",
    "\r\n",
    "Let's illustrate single inheritance in Python:\r\n",
    "\r\n",
    "```python\r\n",
    "# Parent class (Base class)\r\n",
    "class Vehicle:\r\n",
    "    def __init__(self, name):\r\n",
    "        self.name = name\r\n",
    "\r\n",
    "    def start_engine(self):\r\n",
    "        return f\"The {self.name} engine has started.\"\r\n",
    "\r\n",
    "# Child class inheriting from Vehicle\r\n",
    "class Car(Vehicle):\r\n",
    "    def drive(self):\r\n",
    "        return f\"Driving the {self.name}.\"\r\n",
    "\r\n",
    "# Creating an instance of the Car class\r\n",
    "car = Car(\"Car\")\r\n",
    "\r\n",
    "# Accessing attributes and methods from both classes\r\n",
    "print(car.start_engine())  # Inherited from Vehicle\r\n",
    "print(car.drive())  # Defined in the Car class\r\n",
    "```\r\n",
    "\r\n",
    "### Multiple Inheritance:\r\n",
    "- Multiple inheritance refers to the scenario where a class can inherit from more than one base class, thereby inheriting attributes and methods from all parent classes.\r\n",
    "\r\n",
    "An example of multiple inheritance in Python:\r\n",
    "\r\n",
    "```python\r\n",
    "# First parent class\r\n",
    "class A:\r\n",
    "    def method_a(self):\r\n",
    "        return \"Method A from class A\"\r\n",
    "\r\n",
    "# Second parent class\r\n",
    "class B:\r\n",
    "    def method_b(self):\r\n",
    "        return \"Method B from class B\"\r\n",
    "\r\n",
    "# Child class inheriting from both A and B\r\n",
    "class C(A, B):\r\n",
    "    def method_c(self):\r\n",
    "        return \"Method C from class C\"\r\n",
    "\r\n",
    "# Creating an instance of the child class\r\n",
    "obj_c = C()\r\n",
    "\r\n",
    "# Accessing methods from both parent classes\r\n",
    "print(obj_c.method_a())  # Method from class A\r\n",
    "print(obj_c.method_b())  # Method from class B\r\n",
    "print(obj_c.method_c())  # Method from class C\r\n",
    "```\r\n",
    "\r\n",
    "### Differences and Advantages:\r\n",
    "- **Single Inheritance**: It simplifies the class hierarchy, leading to clearer code organization. It's often easier to understand and maintain. However, it restricts a class to inherit from only one parent class.\r\n",
    "- **Multiple Inheritance**: It allows a class to inherit from multiple parent classes, enabling greater code reuse and combining functionalities. However, it can lead to complex hierarchies and potential ambiguity if the same method or attribute is present in multiple parent classes.\r\n",
    "\r\n",
    "The choice between single and multiple inheritance depends on the design and requirements of the system. Single inheritance provides simplicity and clarity, while multiple inheritance offers greater reusability but demands careful design to avoid conflicts in method and attribute names from different parent classes."
   ]
  },
  {
   "cell_type": "markdown",
   "id": "bb1942f6-f527-45a1-b03e-98af0616eaa1",
   "metadata": {},
   "source": [
    "## Question3. Explain the terms \"base class\" and \"derived class\" in the context of inheritance.\n",
    "\n",
    "## Answer: \n",
    "In the context of inheritance in object-oriented programming, the terms \"base class\" and \"derived class\" refer to the classes involved in the inheritance relationship.\r\n",
    "\r\n",
    "- **Base Class (Parent Class):** The base class, also known as the parent class or superclass, is the class whose attributes and methods are inherited by another class. It serves as the foundation or starting point for other classes to inherit from. The base class doesn't inherit from any other class.\r\n",
    "\r\n",
    "Example:\r\n",
    "```python\r\n",
    "class Animal:  # Base Class\r\n",
    "    def make_sound(self):\r\n",
    "        print(\"Some generic sound\")\r\n",
    "\r\n",
    "class Dog(Animal):  # Dog is a derived class inheriting from Animal\r\n",
    "    def bark(self):\r\n",
    "        print(\"Woof!\")\r\n",
    "```\r\n",
    "\r\n",
    "In this example, `Animal` is the base class, providing a generic `make_sound` method, and `Dog` is the derived class inheriting from `Animal`.\r\n",
    "\r\n",
    "- **Derived Class (Child Class):** The derived class, also known as the child class or subclass, is a class that inherits attributes and methods from a base class. It extends or specializes the behavior of the base class by adding new attributes or methods or by overriding existing methods.\r\n",
    "\r\n",
    "Example:\r\n",
    "```python\r\n",
    "class Animal:  # Base Class\r\n",
    "    def make_sound(self):\r\n",
    "        print(\"Some generic sound\")\r\n",
    "\r\n",
    "class Dog(Animal):  # Dog is a derived class inheriting from Animal\r\n",
    "    def make_sound(self):  # Overriding the make_sound method\r\n",
    "        print(\"Woof!\")\r\n",
    "```\r\n",
    "\r\n",
    "In this example, `Dog` is the derived class that inherits the `make_sound` method from the `Animal` base class but provides its own specialized implementation of the method.\r\n",
    "\r\n",
    "The base class provides a set of common features that can be shared by multiple derived classes, while each derived class can further specialize and extend the functionality inherited from the base class, leading to a hierarchy of classes in an inheritance relationship."
   ]
  },
  {
   "cell_type": "markdown",
   "id": "ef458e50-85e0-4304-9fcc-167b235afc6f",
   "metadata": {},
   "source": [
    "## Question4. What is the significance of the \"protected\" access modifier in inheritance? How does it differ from \"private\" and \"public\" modifiers?\n",
    "\n",
    "## Answer:\n",
    "In Python, there's no strict enforcement of access control like other programming languages, but there are conventions and certain patterns that serve similar purposes to access modifiers in other languages.\r\n",
    "\r\n",
    "### Public, Protected, and Private:\r\n",
    "\r\n",
    "1. **Public**: By default, in Python, all attributes and methods are public. They can be accessed from inside or outside the class.\r\n",
    "\r\n",
    "2. **Protected**: In Python, a single underscore (_) prefix before an attribute or method name is a convention indicating that it's protected. This doesn't restrict access; however, it serves as an indicator that the attribute or method should be considered protected and should not be accessed directly from outside the class. It is a convention to communicate to other developers that the attribute is intended for internal use or for derived classes.\r\n",
    "\r\n",
    "3. **Private**: In Python, a double underscore (__) prefix before an attribute or method name is used to make it private. This effectively mangles the attribute or method name, making it harder to access from outside the class. However, it's not truly private, as Python does name mangling, making the attribute or method still accessible through a mangled name from outside the class.\r\n",
    "\r\n",
    "### Significance in Inheritance:\r\n",
    "\r\n",
    "- **Public members**: Inherited by the derived class and can be accessed directly.\r\n",
    "\r\n",
    "- **Protected members**: Intended to be used by derived classes. Although they can still be accessed from outside the class, it's a signal that they're meant for derived classes and not for general use.\r\n",
    "\r\n",
    "- **Private members**: Name-mangled to prevent accidental access. Not inherited by the derived class. These members are intended to be used only within the defining class.\r\n",
    "\r\n",
    "### Differences:\r\n",
    "\r\n",
    "- **Public**: Accessible from anywhere.\r\n",
    "\r\n",
    "- **Protected**: Conventional way to indicate internal usage, suggesting it should not be accessed outside of the class or its subclasses, although it's still accessible.\r\n",
    "\r\n",
    "- **Private**: Intended for internal use within the class only. Name-mangling is performed to make them harder to access directly from outside the class.\r\n",
    "\r\n",
    "The significance of these access modifiers in inheritance lies in communication: they help indicate the intended usage and accessibility of attributes and methods, even though there's no strict enforcement of access control in Python."
   ]
  },
  {
   "cell_type": "markdown",
   "id": "5c3e5dc8-af0a-472a-b72c-54aa17a1681f",
   "metadata": {},
   "source": [
    "## Question5. What is the purpose of the \"super\" keyword in inheritance? Provide an example.\n",
    "\n",
    "## Answer:\n",
    "The super() keyword in Python is used to access the methods and properties of a parent (or superclass) from a child (or subclass) in an inheritance hierarchy. It provides a way to call methods of the superclass from the subclass.\r\n",
    "\r\n",
    "Purpose of super() in Inheritance:\r\n",
    "It enables invoking methods from the base class, allowing for code reusability and ensuring that the parent class methods are called.\r\n",
    "\r\n",
    "It's particularly useful when a method is overridden in the child class, and you still want to execute the overridden method along with the parent class method.\r\n",
    "\r\n",
    "Example:"
   ]
  },
  {
   "cell_type": "code",
   "execution_count": 2,
   "id": "05a5399e-93f9-4dc3-844e-be66f140b4c3",
   "metadata": {},
   "outputs": [
    {
     "name": "stdout",
     "output_type": "stream",
     "text": [
      "Car is running. Engine started.\n"
     ]
    }
   ],
   "source": [
    "# Parent class (Base class)\n",
    "class Vehicle:\n",
    "    def start_engine(self):\n",
    "        return \"Engine started.\"\n",
    "\n",
    "# Child class inheriting from Vehicle\n",
    "class Car(Vehicle):\n",
    "    def start_engine(self):\n",
    "        # Calling the parent class method using super()\n",
    "        parent_method_result = super().start_engine()\n",
    "\n",
    "        return f\"Car is running. {parent_method_result}\"\n",
    "\n",
    "# Creating an instance of the Car class\n",
    "car = Car()\n",
    "\n",
    "# Accessing the overridden method along with the parent class method using super()\n",
    "print(car.start_engine())\n"
   ]
  },
  {
   "cell_type": "markdown",
   "id": "af9e318c-d60d-4176-9bcf-686ba68c4750",
   "metadata": {},
   "source": [
    "Explanation:\n",
    "- In this example, the Vehicle class has a method start_engine which is inherited by the Car class.\n",
    "- In the Car class, the start_engine method is overridden. Inside this overridden method, super().start_engine() is used to invoke the start_engine method from the parent class Vehicle.\n",
    "- The super() keyword allows the overridden method in the child class to call the corresponding method in the parent class and use the result in its own implementation.\n",
    "- The super() keyword aids in maintaining a clean and maintainable codebase by enabling seamless access to parent class methods, allowing for better management and reusability in an inheritance hierarchy."
   ]
  },
  {
   "cell_type": "markdown",
   "id": "bf395205-ca11-4b16-9659-1f47d33e1f1e",
   "metadata": {},
   "source": [
    "## Question6. Create a base class called \"Vehicle\" with attributes like \"make\", \"model\", and \"year\".Then, create a derived class called \"Car\" that inherits from \"Vehicle\" and adds an attribute called \"fuel_type\". Implement appropriate methods in both classes."
   ]
  },
  {
   "cell_type": "code",
   "execution_count": 3,
   "id": "008ed523-f299-4171-b5d5-abe87befd0b1",
   "metadata": {},
   "outputs": [
    {
     "name": "stdout",
     "output_type": "stream",
     "text": [
      "Make: Toyota, Model: Corolla, Year: 2022, Fuel Type: Gasoline\n"
     ]
    }
   ],
   "source": [
    "# Answer: \n",
    "\n",
    "# Base class (Parent class)\n",
    "class Vehicle:\n",
    "    def __init__(self, make, model, year):\n",
    "        self.make = make\n",
    "        self.model = model\n",
    "        self.year = year\n",
    "\n",
    "    def display_info(self):\n",
    "        return f\"Make: {self.make}, Model: {self.model}, Year: {self.year}\"\n",
    "\n",
    "# Derived class (Child class) inheriting from Vehicle\n",
    "class Car(Vehicle):\n",
    "    def __init__(self, make, model, year, fuel_type):\n",
    "        super().__init__(make, model, year)  # Calling the base class constructor\n",
    "        self.fuel_type = fuel_type\n",
    "\n",
    "    def car_info(self):\n",
    "        vehicle_info = self.display_info()  # Accessing method from the base class\n",
    "        return f\"{vehicle_info}, Fuel Type: {self.fuel_type}\"\n",
    "\n",
    "# Creating an instance of the Car class\n",
    "car = Car(\"Toyota\", \"Corolla\", 2022, \"Gasoline\")\n",
    "\n",
    "# Accessing methods from both classes\n",
    "print(car.car_info())  # Accessing method from the Car class\n"
   ]
  },
  {
   "cell_type": "markdown",
   "id": "0a8bed31-8f2e-4d8e-8d3f-6b15efbb21c8",
   "metadata": {},
   "source": [
    "Explanation:\n",
    "Vehicle class is the base class with attributes: make, model, and year. It has a method display_info that displays the vehicle information.\n",
    "\n",
    "Car class is derived from the Vehicle class. It adds a new attribute fuel_type and a method car_info to display car-specific information, which calls the display_info method from the base class.\n",
    "\n",
    "super().__init__(make, model, year) in the Car class initializes the base class attributes.\n",
    "\n",
    "The car_info method in the Car class combines the vehicle information (inherited from the Vehicle class) and the specific fuel_type for the car.\n",
    "\n",
    "This implementation demonstrates inheritance, where the Car class inherits attributes and methods from the Vehicle class while adding its specific attributes and methods."
   ]
  },
  {
   "cell_type": "markdown",
   "id": "0cee4252-0f8a-4e21-9970-9931e016dcfc",
   "metadata": {},
   "source": [
    "## Question7. Create a base class called \"Employee\" with attributes like \"name\" and \"salary.\" Derive two classes, \"Manager\" and \"Developer,\" from \"Employee.\" Add an additional attribute called \"department\" for the \"Manager\" class and \"programming_language\" for the \"Developer\" class."
   ]
  },
  {
   "cell_type": "code",
   "execution_count": 4,
   "id": "15f90fdd-e4b0-4ad0-9532-b60b31ef44c7",
   "metadata": {},
   "outputs": [
    {
     "name": "stdout",
     "output_type": "stream",
     "text": [
      "Manager - Name: Alice, Salary: 80000, Department: Operations\n",
      "Developer - Name: Bob, Salary: 60000, Programming Language: Python\n"
     ]
    }
   ],
   "source": [
    "# Answer:\n",
    "\n",
    "# Base class (Parent class)\n",
    "class Employee:\n",
    "    def __init__(self, name, salary):\n",
    "        self.name = name\n",
    "        self.salary = salary\n",
    "\n",
    "# Derived class Manager from Employee\n",
    "class Manager(Employee):\n",
    "    def __init__(self, name, salary, department):\n",
    "        super().__init__(name, salary)\n",
    "        self.department = department\n",
    "\n",
    "# Derived class Developer from Employee\n",
    "class Developer(Employee):\n",
    "    def __init__(self, name, salary, programming_language):\n",
    "        super().__init__(name, salary)\n",
    "        self.programming_language = programming_language\n",
    "\n",
    "# Instances of Manager and Developer classes\n",
    "manager = Manager(\"Alice\", 80000, \"Operations\")\n",
    "developer = Developer(\"Bob\", 60000, \"Python\")\n",
    "\n",
    "# Accessing attributes of Manager and Developer\n",
    "print(f\"Manager - Name: {manager.name}, Salary: {manager.salary}, Department: {manager.department}\")\n",
    "print(f\"Developer - Name: {developer.name}, Salary: {developer.salary}, Programming Language: {developer.programming_language}\")\n"
   ]
  },
  {
   "cell_type": "markdown",
   "id": "7c8ee408-0e3f-4b8b-8cab-f30a38175458",
   "metadata": {},
   "source": [
    "Explanation:\n",
    "\n",
    "Employee is the base class with attributes name and salary.\n",
    "\n",
    "Manager and Developer are derived classes from Employee.\n",
    "\n",
    "The Manager class has an additional attribute department.\n",
    "\n",
    "The Developer class has an additional attribute programming_language.\n",
    "\n",
    "Both derived classes use super().__init__() to initialize the attributes inherited from the base class.\n",
    "\n",
    "This setup demonstrates inheritance, where the Manager and Developer classes inherit the attributes of name and salary from the Employee class while adding their specific attributes."
   ]
  },
  {
   "cell_type": "markdown",
   "id": "36149b7f-6c47-4539-a4ad-e65040240589",
   "metadata": {},
   "source": [
    "## Question8. Design a base class called \"Shape\" with attributes like \"colour\" and \"border_width.\" Create derived classes, \"Rectangle\" and \"Circle,\" that inherit from \"Shape\" and add specific attributes like \"length\" and \"width\" for the \"Rectangle\" class and \"radius\" for the \"Circle\" class."
   ]
  },
  {
   "cell_type": "code",
   "execution_count": 5,
   "id": "5fab9904-f26b-49a1-b61d-557da512b7fb",
   "metadata": {},
   "outputs": [
    {
     "name": "stdout",
     "output_type": "stream",
     "text": [
      "Rectangle - Colour: Red, Border Width: 2, Length: 5, Width: 10\n",
      "Circle - Colour: Blue, Border Width: 3, Radius: 7\n"
     ]
    }
   ],
   "source": [
    "# Answer;\n",
    "\n",
    "# Base class (Parent class)\n",
    "class Shape:\n",
    "    def __init__(self, colour, border_width):\n",
    "        self.colour = colour\n",
    "        self.border_width = border_width\n",
    "\n",
    "# Derived class Rectangle from Shape\n",
    "class Rectangle(Shape):\n",
    "    def __init__(self, colour, border_width, length, width):\n",
    "        super().__init__(colour, border_width)\n",
    "        self.length = length\n",
    "        self.width = width\n",
    "\n",
    "# Derived class Circle from Shape\n",
    "class Circle(Shape):\n",
    "    def __init__(self, colour, border_width, radius):\n",
    "        super().__init__(colour, border_width)\n",
    "        self.radius = radius\n",
    "\n",
    "# Instances of Rectangle and Circle classes\n",
    "rectangle = Rectangle(\"Red\", 2, 5, 10)\n",
    "circle = Circle(\"Blue\", 3, 7)\n",
    "\n",
    "# Accessing attributes of Rectangle and Circle\n",
    "print(f\"Rectangle - Colour: {rectangle.colour}, Border Width: {rectangle.border_width}, Length: {rectangle.length}, Width: {rectangle.width}\")\n",
    "print(f\"Circle - Colour: {circle.colour}, Border Width: {circle.border_width}, Radius: {circle.radius}\")\n"
   ]
  },
  {
   "cell_type": "markdown",
   "id": "6708ae07-e0ed-4fcb-b4e4-adf075d19c79",
   "metadata": {},
   "source": [
    "Explanation:\n",
    "\n",
    "Shape is the base class with attributes colour and border_width.\n",
    "\n",
    "Rectangle and Circle are derived classes from Shape.\n",
    "\n",
    "The Rectangle class has additional attributes length and width.\n",
    "\n",
    "The Circle class has an additional attribute radius.\n",
    "\n",
    "Both derived classes use super().__init__() to initialize the attributes inherited from the base class.\n",
    "\n",
    "This demonstrates inheritance where the Rectangle and Circle classes inherit the attributes of colour and border_width from the Shape class while adding their specific attributes."
   ]
  },
  {
   "cell_type": "markdown",
   "id": "816fc0fc-2dfa-4e9b-b9df-b1904181f5c4",
   "metadata": {},
   "source": [
    "## Question9. Create a base class called \"Device\" with attributes like \"brand\" and \"model.\" Derive two classes, \"Phone\" and \"Tablet,\" from \"Device.\" Add specific attributes like \"screen_size\" for the \"Phone\" class and \"battery_capacity\" for the \"Tablet\" class."
   ]
  },
  {
   "cell_type": "code",
   "execution_count": 6,
   "id": "605fe0fa-81d5-4f22-9854-d83ac924284e",
   "metadata": {},
   "outputs": [
    {
     "name": "stdout",
     "output_type": "stream",
     "text": [
      "Phone - Brand: Samsung, Model: Galaxy S21, Screen Size: 6.2 inches\n",
      "Tablet - Brand: Apple, Model: iPad Pro, Battery Capacity: 10,000 mAh\n"
     ]
    }
   ],
   "source": [
    "# Answer:\n",
    "\n",
    "# Base class (Parent class)\n",
    "class Device:\n",
    "    def __init__(self, brand, model):\n",
    "        self.brand = brand\n",
    "        self.model = model\n",
    "\n",
    "# Derived class Phone from Device\n",
    "class Phone(Device):\n",
    "    def __init__(self, brand, model, screen_size):\n",
    "        super().__init__(brand, model)\n",
    "        self.screen_size = screen_size\n",
    "\n",
    "# Derived class Tablet from Device\n",
    "class Tablet(Device):\n",
    "    def __init__(self, brand, model, battery_capacity):\n",
    "        super().__init__(brand, model)\n",
    "        self.battery_capacity = battery_capacity\n",
    "\n",
    "# Instances of Phone and Tablet classes\n",
    "phone = Phone(\"Samsung\", \"Galaxy S21\", \"6.2 inches\")\n",
    "tablet = Tablet(\"Apple\", \"iPad Pro\", \"10,000 mAh\")\n",
    "\n",
    "# Accessing attributes of Phone and Tablet\n",
    "print(f\"Phone - Brand: {phone.brand}, Model: {phone.model}, Screen Size: {phone.screen_size}\")\n",
    "print(f\"Tablet - Brand: {tablet.brand}, Model: {tablet.model}, Battery Capacity: {tablet.battery_capacity}\")\n"
   ]
  },
  {
   "cell_type": "markdown",
   "id": "cb7cc9c4-dd7d-467e-9a5d-fc3ce1005c26",
   "metadata": {},
   "source": [
    "Explanation:\n",
    "\n",
    "Device is the base class with attributes brand and model.\n",
    "\n",
    "Phone and Tablet are derived classes from Device.\n",
    "\n",
    "The Phone class has an additional attribute screen_size.\n",
    "\n",
    "The Tablet class has an additional attribute battery_capacity.\n",
    "\n",
    "Both derived classes use super().__init__() to initialize the attributes inherited from the base class.\n",
    "\n",
    "This setup demonstrates inheritance, where the Phone and Tablet classes inherit the attributes of brand and model from the Device class while adding their specific attributes."
   ]
  },
  {
   "cell_type": "markdown",
   "id": "d5e3a6f8-c13f-4d45-bc25-dc9e7442aa62",
   "metadata": {},
   "source": [
    "## Question10. Create a base class called \"BankAccount\" with attributes like \"account_number\" and \"balance.\" Derive two classes, \"SavingsAccount\" and \"CheckingAccount,\" from \"BankAccount.\" Add specific methods like \"calculate_interest\" for the \"SavingsAccount\" class and \"deduct_fees\" for the \"CheckingAccount\" class."
   ]
  },
  {
   "cell_type": "code",
   "execution_count": 7,
   "id": "35e21b38-bb80-4bef-b57b-37bcbe783bfa",
   "metadata": {},
   "outputs": [
    {
     "name": "stdout",
     "output_type": "stream",
     "text": [
      "Interest credited: 250.0\n",
      "Fees deducted: 50\n",
      "Savings Account Balance: 5250.0\n",
      "Checking Account Balance: 2950\n"
     ]
    }
   ],
   "source": [
    "# Ansswer:\n",
    "\n",
    "# Base class (Parent class)\n",
    "class BankAccount:\n",
    "    def __init__(self, account_number, balance):\n",
    "        self.account_number = account_number\n",
    "        self.balance = balance\n",
    "\n",
    "# Derived class SavingsAccount from BankAccount\n",
    "class SavingsAccount(BankAccount):\n",
    "    def calculate_interest(self, rate):\n",
    "        interest = (rate / 100) * self.balance\n",
    "        self.balance += interest\n",
    "        return interest\n",
    "\n",
    "# Derived class CheckingAccount from BankAccount\n",
    "class CheckingAccount(BankAccount):\n",
    "    def deduct_fees(self, fee):\n",
    "        if self.balance >= fee:\n",
    "            self.balance -= fee\n",
    "            return f\"Fees deducted: {fee}\"\n",
    "        else:\n",
    "            return \"Insufficient balance for fee deduction\"\n",
    "\n",
    "# Instances of SavingsAccount and CheckingAccount classes\n",
    "savings = SavingsAccount(\"SA123\", 5000)\n",
    "checking = CheckingAccount(\"CA456\", 3000)\n",
    "\n",
    "# Using methods specific to SavingsAccount and CheckingAccount\n",
    "savings.calculate_interest(5)\n",
    "print(f\"Interest credited: {savings.balance - 5000}\")  # Should print the interest calculated\n",
    "\n",
    "print(checking.deduct_fees(50))  # Deduct fees\n",
    "\n",
    "# Displaying updated balances\n",
    "print(f\"Savings Account Balance: {savings.balance}\")\n",
    "print(f\"Checking Account Balance: {checking.balance}\")"
   ]
  },
  {
   "cell_type": "markdown",
   "id": "a8031351-ec04-4c78-bfae-35dd2139d754",
   "metadata": {},
   "source": [
    "Explanation:\n",
    "\n",
    "BankAccount is the base class with attributes account_number and balance.\n",
    "\n",
    "SavingsAccount and CheckingAccount are derived classes from BankAccount.\n",
    "\n",
    "The SavingsAccount class has a method calculate_interest that calculates and adds interest to the account balance.\n",
    "\n",
    "The CheckingAccount class has a method deduct_fees that deducts fees from the account balance.\n",
    "\n",
    "Both derived classes inherit the attributes and methods from the base class, allowing them to extend the functionality with their specific methods."
   ]
  }
 ],
 "metadata": {
  "kernelspec": {
   "display_name": "Python 3 (ipykernel)",
   "language": "python",
   "name": "python3"
  },
  "language_info": {
   "codemirror_mode": {
    "name": "ipython",
    "version": 3
   },
   "file_extension": ".py",
   "mimetype": "text/x-python",
   "name": "python",
   "nbconvert_exporter": "python",
   "pygments_lexer": "ipython3",
   "version": "3.11.3"
  }
 },
 "nbformat": 4,
 "nbformat_minor": 5
}
