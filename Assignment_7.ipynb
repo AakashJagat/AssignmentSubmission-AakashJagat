{
 "cells": [
  {
   "cell_type": "markdown",
   "id": "1caebf39-c0a3-444f-ad36-ad465207b67e",
   "metadata": {},
   "source": [
    "Q.1. Create two int type variables, apply addition, subtraction, division and multiplications\n",
    "and store the results in variables. Then print the data in the following format by calling the\n",
    "variables:"
   ]
  },
  {
   "cell_type": "code",
   "execution_count": 1,
   "id": "fe39f9f1-b11f-47a4-b26f-0e2b572f7f9e",
   "metadata": {},
   "outputs": [
    {
     "name": "stdout",
     "output_type": "stream",
     "text": [
      "First variable is 5 & second variable is 10\n",
      "Addition: 5 + 10 = 15\n",
      "Subtraction: 5 - 10 = -5\n",
      "Multiplication: 5 * 10 = 50\n",
      "Division: 5 / 10 = 0.5\n"
     ]
    }
   ],
   "source": [
    "a = 5\n",
    "b = 10\n",
    "\n",
    "print(f\"First variable is {a} & second variable is {b}\")\n",
    "print(f\"Addition: {a} + {b} = {a+b}\")\n",
    "print(f\"Subtraction: {a} - {b} = {a-b}\")\n",
    "print(f\"Multiplication: {a} * {b} = {a*b}\")\n",
    "print(f\"Division: {a} / {b} = {a/b}\")"
   ]
  },
  {
   "cell_type": "markdown",
   "id": "bf8baac0-1745-4d2d-90d5-9dc2c9eb86ee",
   "metadata": {},
   "source": [
    "Q.2. What is the difference between the following operators:\n",
    "(i) ‘/’ & ‘//’\n",
    "(ii) ‘**’ & ‘^’\n",
    "\n",
    "Answer: (i) `/` vs. `//`:\r\n",
    "- `/` is the division operator and performs floating-point division, yielding a floating-point result.\r\n",
    "- `//` is the floor division operator and performs integer division, yielding an integer result by discarding the decimal part.\r\n",
    "\r\n",
    "(ii) `**` vs. `^`:\r\n",
    "- `**` is the exponentiation operator and raises a number to a power (e.g., `2 ** 3` = 8).\r\n",
    "- `^` is not a built-in exponentiation operator in Python; it is a bitwise XOR operator for binary operations."
   ]
  },
  {
   "cell_type": "markdown",
   "id": "f5918521-eef6-41b1-a37e-e941e11db14c",
   "metadata": {},
   "source": [
    "Question3. List the logical operators.\n",
    "    \n",
    "Answer: The logical operators in Python are:\n",
    "\n",
    "1. `and` - Returns True if both operands are True.\n",
    "2. `or` - Returns True if at least one of the operands is True.\n",
    "3. `not` - Returns the opposite boolean value of the operand (True becomes False, and False becomes True).\n",
    "    "
   ]
  },
  {
   "cell_type": "markdown",
   "id": "d3dcfb0c-3206-4f05-9fef-dc5e73e6a3a0",
   "metadata": {},
   "source": [
    "Q.4. Explain right shift operator and left shift operator with examples.\n",
    "\n",
    "Answer: Sure, let's explain the right shift (`>>`) and left shift (`<<`) operators in a simple way with examples:\r\n",
    "\r\n",
    "1. Right Shift (`>>`):\r\n",
    "   - The right shift operator `>>` moves the bits of a number to the right by a specified number of positions.\r\n",
    "   - It effectively divides an integer by a power of 2 by shifting its bits to the right.\r\n",
    "   - Example: Let's say we have the number 8, which in binary is `1000`. If we right-shift it by 2 positions (`8 >> 2`), it becomes `0010`, which is 2 in decimal.\r\n",
    "\r\n",
    "2. Left Shift (`<<`):\r\n",
    "   - The left shift operator `<<` moves the bits of a number to the left by a specified number of positions.\r\n",
    "   - It effectively multiplies an integer by a power of 2 by shifting its bits to the left.\r\n",
    "   - Example: If we have the number 3, which in binary is `0011`, and we left-shift it by 2 positions (`3 << 2`), it becomes `1100`, which is 12 in decimal.\r\n",
    "\r\n",
    "In summary, the right shift operator shifts bits to the right, which is equivalent to dividing by 2 to the power of the specified shift amount, and the left shift operator shifts bits to the left, which is equivalent to multiplying by 2 to the power of the specified shift amount."
   ]
  },
  {
   "cell_type": "markdown",
   "id": "0ca47626-5b62-41f1-8e73-58cc4cc58788",
   "metadata": {},
   "source": [
    "Q.5. Create a list containing int type data of length 15. Then write a code to check if 10 is\n",
    "present in the list or not."
   ]
  },
  {
   "cell_type": "code",
   "execution_count": 5,
   "id": "cb763cd0-79c5-4912-8bdb-6db31a210b2a",
   "metadata": {},
   "outputs": [
    {
     "name": "stdout",
     "output_type": "stream",
     "text": [
      "10 is present in the list.\n"
     ]
    }
   ],
   "source": [
    "# Create a list of integers\n",
    "my_list = [2, 4, 6, 8, 10, 12, 14, 16, 18, 20, 22, 24, 26, 28, 30]\n",
    "\n",
    "# Check if 10 is present in the list\n",
    "if 10 in my_list:\n",
    "    print(\"10 is present in the list.\")\n",
    "else:\n",
    "    print(\"10 is not present in the list.\")\n"
   ]
  }
 ],
 "metadata": {
  "kernelspec": {
   "display_name": "Python 3 (ipykernel)",
   "language": "python",
   "name": "python3"
  },
  "language_info": {
   "codemirror_mode": {
    "name": "ipython",
    "version": 3
   },
   "file_extension": ".py",
   "mimetype": "text/x-python",
   "name": "python",
   "nbconvert_exporter": "python",
   "pygments_lexer": "ipython3",
   "version": "3.11.3"
  }
 },
 "nbformat": 4,
 "nbformat_minor": 5
}
