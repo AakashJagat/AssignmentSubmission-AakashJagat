{
 "cells": [
  {
   "cell_type": "markdown",
   "id": "efe3b77b-39f4-4207-9f0d-dc63d4ba83d0",
   "metadata": {},
   "source": [
    "Question1. What is a lambda function in Python, and how does it differ from a regular function?\n",
    "\n",
    "Answer: A lambda function in Python is a small, anonymous function defined using the `lambda` keyword. It is often used for simple operations and can take multiple arguments but can only have one expression. Lambda functions are typically used for short, one-time operations and are more concise than regular functions defined using the `def` keyword."
   ]
  },
  {
   "cell_type": "markdown",
   "id": "cc3747af-619e-483a-a9e3-10b633ea819c",
   "metadata": {},
   "source": [
    "Question2. Can a lambda function in Python have multiple arguments? If yes, how can you define and use\n",
    "them?"
   ]
  },
  {
   "cell_type": "code",
   "execution_count": 1,
   "id": "6ae6da9f-f656-4645-8bdb-c624761becfb",
   "metadata": {},
   "outputs": [
    {
     "name": "stdout",
     "output_type": "stream",
     "text": [
      "8\n"
     ]
    }
   ],
   "source": [
    "# Answer: \n",
    "# Define a lambda function with multiple arguments\n",
    "add = lambda x, y: x + y\n",
    "\n",
    "# Use the lambda function\n",
    "result = add(5, 3)  # This will return 8\n",
    "print(result)"
   ]
  },
  {
   "cell_type": "markdown",
   "id": "30c8e302-1b9f-4c0e-8e5e-dc834239486e",
   "metadata": {},
   "source": [
    "Question3. How are lambda functions typically used in Python? Provide an example use case.\n",
    "\n",
    "Answer: Lambda functions in Python are typically used for small, simple operations where you need a function for a short duration and don't want to define a full named function using the def keyword. They are often employed in scenarios where functions are used as arguments to higher-order functions like map(), filter(), and sort(). Here's an example use case:"
   ]
  },
  {
   "cell_type": "code",
   "execution_count": 2,
   "id": "e10034ac-b328-422c-9744-d444aee053ae",
   "metadata": {},
   "outputs": [
    {
     "name": "stdout",
     "output_type": "stream",
     "text": [
      "[(4, 1), (3, 2), (1, 5), (2, 8)]\n"
     ]
    }
   ],
   "source": [
    "data = [(1, 5), (3, 2), (2, 8), (4, 1)]\n",
    "\n",
    "# Sort the list of tuples based on the second element of each tuple\n",
    "sorted_data = sorted(data, key=lambda x: x[1])\n",
    "\n",
    "print(sorted_data)\n"
   ]
  },
  {
   "cell_type": "markdown",
   "id": "74a69129-45c7-471f-a5eb-f53bedb8a24a",
   "metadata": {},
   "source": [
    "Question4. What are the advantages and limitations of lambda functions compared to regular functions in\n",
    "Python?\n",
    "\n",
    "Answer: Advantages of Lambda Functions in Python:\r\n",
    "1. Conciseness: Lambda functions are more concise and can be defined in a single line of code.\r\n",
    "2. Readability: They can make code more readable when used appropriately for simple, short functions.\r\n",
    "3. No need for a separate def statement: Lambda functions are defined inline, eliminating the need for a separate function definition.\r\n",
    "4. Use in functional programming: Lambda functions are commonly used with higher-order functions like map, filter, and reduce.\r\n",
    "\r\n",
    "Limitations of Lambda Functions in Python:\r\n",
    "1. Limited complexity: Lambda functions are restricted to a single expression, making them unsuitable for complex logic.\r\n",
    "2. Lack of documentation: Lambda functions cannot have docstrings, making it harder to document their functionality.\r\n",
    "3. Limited reusability: They are typically used for small, one-off tasks and are not well-suited for reusable, named functions.\r\n",
    "4. Reduced traceability: Debugging and tracing issues in lambda functions can be more challenging due to their inline nature."
   ]
  },
  {
   "cell_type": "markdown",
   "id": "9c0948d7-4f08-44f2-97a6-d4fbdc6f737f",
   "metadata": {},
   "source": [
    "Question5. Are lambda functions in Python able to access variables defined outside of their own scope?\n",
    "Explain with an example.\n",
    "\n",
    "Answer: Yes, lambda functions in Python can access variables defined outside of their own scope. They can access variables from the enclosing scope in a similar way as regular functions, thanks to closures. Here's an example to illustrate this:"
   ]
  },
  {
   "cell_type": "code",
   "execution_count": 3,
   "id": "99750bb3-dece-4b22-b7cd-7deac3af68b6",
   "metadata": {},
   "outputs": [
    {
     "name": "stdout",
     "output_type": "stream",
     "text": [
      "15\n"
     ]
    }
   ],
   "source": [
    "def outer_function(x):\n",
    "    # Define a lambda function that uses the 'x' parameter from the outer function\n",
    "    inner_lambda = lambda y: x + y\n",
    "    return inner_lambda\n",
    "\n",
    "# Create a closure by calling outer_function with x=10\n",
    "closure = outer_function(10)\n",
    "\n",
    "# Use the closure to add 5 to the 'x' value from the outer scope\n",
    "result = closure(5)\n",
    "\n",
    "print(result)  # Output will be 15 (10 + 5)\n"
   ]
  },
  {
   "cell_type": "markdown",
   "id": "aa9352bf-5d64-4af8-bcb6-c94fb4009597",
   "metadata": {},
   "source": [
    "Question6. Write a lambda function to calculate the square of a given number."
   ]
  },
  {
   "cell_type": "code",
   "execution_count": 4,
   "id": "1a1954ba-ead3-4190-9928-02172ede36da",
   "metadata": {},
   "outputs": [
    {
     "name": "stdin",
     "output_type": "stream",
     "text": [
      "Enter the number you want to square:  5\n"
     ]
    },
    {
     "name": "stdout",
     "output_type": "stream",
     "text": [
      "25\n"
     ]
    }
   ],
   "source": [
    "import math\n",
    "square = lambda x: int(x ** 2)\n",
    "\n",
    "user_input = input(\"Enter the number you want to square: \")\n",
    "\n",
    "num = int(user_input)\n",
    "result = square(num)\n",
    "print(result)"
   ]
  },
  {
   "cell_type": "markdown",
   "id": "85023417-8fd5-48d4-a12f-16eb44008ae4",
   "metadata": {},
   "source": [
    "Question7. Create a lambda function to find the maximum value in a list of integers."
   ]
  },
  {
   "cell_type": "code",
   "execution_count": 5,
   "id": "39b51fd3-d6ca-4e38-8269-2b161d120b40",
   "metadata": {},
   "outputs": [
    {
     "name": "stdout",
     "output_type": "stream",
     "text": [
      "70\n"
     ]
    }
   ],
   "source": [
    "find_max = lambda lst: max(lst)\n",
    "\n",
    "#Example usage\n",
    "numbers = [10,20.60,5,48,70]\n",
    "maximum = find_max(numbers)\n",
    "\n",
    "print(maximum)"
   ]
  },
  {
   "cell_type": "markdown",
   "id": "ed6d7723-689e-4e48-b447-5f094ab01bd1",
   "metadata": {},
   "source": [
    "Question8. Implement a lambda function to filter out all the even numbers from a list of integers."
   ]
  },
  {
   "cell_type": "code",
   "execution_count": 6,
   "id": "67bbfbf8-0050-4262-b457-7a9cf341f4d6",
   "metadata": {},
   "outputs": [
    {
     "name": "stdout",
     "output_type": "stream",
     "text": [
      "[10, 20, 48, 70]\n"
     ]
    }
   ],
   "source": [
    "find_even = lambda lst: list(filter(lambda x: x % 2 == 0, lst))\n",
    "\n",
    "# Example usage\n",
    "numbers = [10,20, 507,5,48,70]\n",
    "even = find_even(numbers)\n",
    "\n",
    "print(even)"
   ]
  },
  {
   "cell_type": "markdown",
   "id": "af1ee95c-4b62-4dad-9da8-f61a3e7ccaa7",
   "metadata": {},
   "source": [
    "Question9. Write a lambda function to sort a list of strings in ascending order based on the length of each\n",
    "string."
   ]
  },
  {
   "cell_type": "code",
   "execution_count": 7,
   "id": "d702cd6f-e0f0-444f-bafc-f2e6b5c03cf8",
   "metadata": {},
   "outputs": [
    {
     "name": "stdout",
     "output_type": "stream",
     "text": [
      "['apple', 'mango', 'banana', 'cherry']\n"
     ]
    }
   ],
   "source": [
    "sorted_list = lambda lst: sorted(lst, key=lambda x: len(x))\n",
    "\n",
    "#example usage:\n",
    "strings = [\"apple\",\"banana\",\"mango\",\"cherry\",]\n",
    "sorted_list = sorted_list(strings)\n",
    "\n",
    "print(sorted_list)"
   ]
  },
  {
   "cell_type": "markdown",
   "id": "85faa549-182a-4ac2-acec-1722303f7029",
   "metadata": {},
   "source": [
    "Question10. Create a lambda function that takes two lists as input and returns a new list containing the\n",
    "common elements between the two lists."
   ]
  },
  {
   "cell_type": "code",
   "execution_count": 8,
   "id": "41271280-939a-4ef4-9a58-0eac8b6c6625",
   "metadata": {},
   "outputs": [
    {
     "name": "stdout",
     "output_type": "stream",
     "text": [
      "[3, 4, 5]\n"
     ]
    }
   ],
   "source": [
    "find_common_elements = lambda list1, list2: [item for item in list1 if item in list2]\n",
    "\n",
    "# Example usage:\n",
    "list1 = [1, 2, 3, 4, 5]\n",
    "list2 = [3, 4, 5, 6, 7]\n",
    "common_elements = find_common_elements(list1, list2)\n",
    "\n",
    "print(common_elements)  # Output will be '[3, 4, 5]'\n"
   ]
  },
  {
   "cell_type": "markdown",
   "id": "7167cd3e-bbd9-4efd-b7eb-ab4d1d3d5582",
   "metadata": {},
   "source": [
    "Questiom11. Write a recursive function to calculate the factorial of a given positive integer."
   ]
  },
  {
   "cell_type": "code",
   "execution_count": 9,
   "id": "893eed48-b7b0-4c83-ab9d-253601717a11",
   "metadata": {},
   "outputs": [
    {
     "name": "stdout",
     "output_type": "stream",
     "text": [
      "120\n"
     ]
    }
   ],
   "source": [
    "def factorial(n):\n",
    "    # Base case: Factorial of 0 is 1\n",
    "    if n == 0:\n",
    "        return 1\n",
    "    # Recursive case: Factorial of n is n times the factorial of (n-1)\n",
    "    else:\n",
    "        return n * factorial(n - 1)\n",
    "\n",
    "# Example usage:\n",
    "result = factorial(5)  # Calculates 5!\n",
    "print(result)  # Output will be '120' (5! = 5 * 4 * 3 * 2 * 1 = 120)"
   ]
  },
  {
   "cell_type": "markdown",
   "id": "04ae391f-18d6-4bf4-91a2-4efddb3a6a79",
   "metadata": {},
   "source": [
    "Question12. Implement a recursive function to compute the nth Fibonacci number."
   ]
  },
  {
   "cell_type": "code",
   "execution_count": 10,
   "id": "14792e02-660d-45b2-8037-c8abba5bd929",
   "metadata": {},
   "outputs": [
    {
     "name": "stdout",
     "output_type": "stream",
     "text": [
      "8\n"
     ]
    }
   ],
   "source": [
    "def fibonacci(n):\n",
    "    # Base cases: Fibonacci of 0 is 0 and Fibonacci of 1 is 1\n",
    "    if n == 0:\n",
    "        return 0\n",
    "    elif n == 1:\n",
    "        return 1\n",
    "    # Recursive case: Fibonacci of n is the sum of Fibonacci(n-1) and Fibonacci(n-2)\n",
    "    else:\n",
    "        return fibonacci(n - 1) + fibonacci(n - 2)\n",
    "\n",
    "# Example usage:\n",
    "result = fibonacci(6)  # Calculates the 6th Fibonacci number (0, 1, 1, 2, 3, 5, 8...)\n",
    "print(result)  # Output will be '8'"
   ]
  },
  {
   "cell_type": "markdown",
   "id": "63859a1a-83b0-4f34-9aa0-f148f147a586",
   "metadata": {},
   "source": [
    "Question13. Create a recursive function to find the sum of all the elements in a given list."
   ]
  },
  {
   "cell_type": "code",
   "execution_count": 11,
   "id": "ca2a9ad8-9359-4588-8f34-89fa1adcbc4e",
   "metadata": {},
   "outputs": [
    {
     "name": "stdout",
     "output_type": "stream",
     "text": [
      "15\n"
     ]
    }
   ],
   "source": [
    "def recursive_sum(lst):\n",
    "    # Base case: If the list is empty, return 0\n",
    "    if not lst:\n",
    "        return 0\n",
    "    # Recursive case: Return the first element plus the sum of the rest of the list\n",
    "    else:\n",
    "        return lst[0] + recursive_sum(lst[1:])\n",
    "\n",
    "# Example usage:\n",
    "my_list = [1, 2, 3, 4, 5]\n",
    "result = recursive_sum(my_list)\n",
    "print(result)  # Output will be '15' (1 + 2 + 3 + 4 + 5 = 15)"
   ]
  },
  {
   "cell_type": "markdown",
   "id": "a42c1b4e-175b-41f6-808a-b7ef86f00588",
   "metadata": {},
   "source": [
    "Question14. Write a recursive function to determine whether a given string is a palindrome."
   ]
  },
  {
   "cell_type": "code",
   "execution_count": 12,
   "id": "60a67ed3-a33a-4224-89f7-a57882cbb12f",
   "metadata": {},
   "outputs": [
    {
     "name": "stdout",
     "output_type": "stream",
     "text": [
      "True\n",
      "False\n"
     ]
    }
   ],
   "source": [
    "def is_palindrome(s):\n",
    "    # Base case: If the string has 0 or 1 character, it's a palindrome\n",
    "    if len(s) <= 1:\n",
    "        return True\n",
    "    # Recursive case: Check if the first and last characters are the same\n",
    "    if s[0] == s[-1]:\n",
    "        # Recursively check the substring without the first and last characters\n",
    "        return is_palindrome(s[1:-1])\n",
    "    else:\n",
    "        return False\n",
    "\n",
    "# Example usage:\n",
    "word1 = \"racecar\"\n",
    "word2 = \"hello\"\n",
    "\n",
    "print(is_palindrome(word1))  # Output will be 'True' (racecar is a palindrome)\n",
    "print(is_palindrome(word2))  # Output will be 'False' (hello is not a palindrome)\n"
   ]
  },
  {
   "cell_type": "markdown",
   "id": "0e7a0123-e3e3-4da8-8b0b-4845eb412611",
   "metadata": {},
   "source": [
    "Question15. Implement a recursive function to find the greatest common divisor (GCD) of two positive integers."
   ]
  },
  {
   "cell_type": "code",
   "execution_count": 13,
   "id": "6c9e162b-48ee-445f-a74f-1191282d9b26",
   "metadata": {},
   "outputs": [
    {
     "name": "stdout",
     "output_type": "stream",
     "text": [
      "6\n"
     ]
    }
   ],
   "source": [
    "def gcd(a, b):\n",
    "    # Base case: If b is 0, the GCD is a\n",
    "    if b == 0:\n",
    "        return a\n",
    "    # Recursive case: Calculate the GCD of b and the remainder of a divided by b\n",
    "    else:\n",
    "        return gcd(b, a % b)\n",
    "\n",
    "# Example usage:\n",
    "num1 = 48\n",
    "num2 = 18\n",
    "\n",
    "result = gcd(num1, num2)\n",
    "print(result)  # Output will be '6' (the GCD of 48 and 18 is 6)\n"
   ]
  }
 ],
 "metadata": {
  "kernelspec": {
   "display_name": "Python 3 (ipykernel)",
   "language": "python",
   "name": "python3"
  },
  "language_info": {
   "codemirror_mode": {
    "name": "ipython",
    "version": 3
   },
   "file_extension": ".py",
   "mimetype": "text/x-python",
   "name": "python",
   "nbconvert_exporter": "python",
   "pygments_lexer": "ipython3",
   "version": "3.11.3"
  }
 },
 "nbformat": 4,
 "nbformat_minor": 5
}
